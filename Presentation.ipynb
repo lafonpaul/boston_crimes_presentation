{
 "cells": [
  {
   "cell_type": "markdown",
   "metadata": {},
   "source": [
    "# 0. Presentation"
   ]
  },
  {
   "cell_type": "markdown",
   "metadata": {},
   "source": [
    "### Presentation made in the framework of the Artificial Intelligence Certification in 2022\n",
    "<br>\n",
    "Presentation made in 4 hours for the final exam.\n",
    "<br>\n",
    "The information used for this analysis comes from the public Boston Crimes Database. \n",
    "<br>\n",
    "The objective was to make an analysis for the Major's team. \n",
    "\n"
   ]
  },
  {
   "cell_type": "code",
   "execution_count": null,
   "metadata": {},
   "outputs": [],
   "source": [
    "import plotly.express as px\n",
    "import datetime"
   ]
  },
  {
   "cell_type": "markdown",
   "metadata": {},
   "source": [
    "# 1. Load and inspect the dataset"
   ]
  },
  {
   "cell_type": "code",
   "execution_count": null,
   "metadata": {},
   "outputs": [],
   "source": [
    "dfp = df.copy()"
   ]
  },
  {
   "cell_type": "code",
   "execution_count": null,
   "metadata": {},
   "outputs": [
    {
     "data": {
      "text/html": [
       "<div>\n",
       "<style scoped>\n",
       "    .dataframe tbody tr th:only-of-type {\n",
       "        vertical-align: middle;\n",
       "    }\n",
       "\n",
       "    .dataframe tbody tr th {\n",
       "        vertical-align: top;\n",
       "    }\n",
       "\n",
       "    .dataframe thead th {\n",
       "        text-align: right;\n",
       "    }\n",
       "</style>\n",
       "<table border=\"1\" class=\"dataframe\">\n",
       "  <thead>\n",
       "    <tr style=\"text-align: right;\">\n",
       "      <th></th>\n",
       "      <th>INCIDENT_NUMBER</th>\n",
       "      <th>OFFENSE_CODE_GROUP</th>\n",
       "      <th>SHOOTING</th>\n",
       "      <th>OCCURRED_ON_DATE</th>\n",
       "      <th>LAT</th>\n",
       "      <th>LONG</th>\n",
       "      <th>NAME</th>\n",
       "      <th>LAT_POLICE_STATION</th>\n",
       "      <th>LONG_POLICE_STATION</th>\n",
       "      <th>AVG_HAVERSINE_DISTANCE</th>\n",
       "    </tr>\n",
       "  </thead>\n",
       "  <tbody>\n",
       "    <tr>\n",
       "      <th>0</th>\n",
       "      <td>I192068249</td>\n",
       "      <td>Other</td>\n",
       "      <td>0</td>\n",
       "      <td>2015-08-28 10:20:00</td>\n",
       "      <td>42.330119</td>\n",
       "      <td>-71.084251</td>\n",
       "      <td>Roxbury</td>\n",
       "      <td>42.328894</td>\n",
       "      <td>-71.085359</td>\n",
       "      <td>0.163832</td>\n",
       "    </tr>\n",
       "    <tr>\n",
       "      <th>1</th>\n",
       "      <td>I182074094</td>\n",
       "      <td>Violence and harassment</td>\n",
       "      <td>0</td>\n",
       "      <td>2015-09-14 09:31:00</td>\n",
       "      <td>42.315142</td>\n",
       "      <td>-71.067047</td>\n",
       "      <td>Roxbury</td>\n",
       "      <td>42.328894</td>\n",
       "      <td>-71.085359</td>\n",
       "      <td>2.145919</td>\n",
       "    </tr>\n",
       "    <tr>\n",
       "      <th>2</th>\n",
       "      <td>I182054888</td>\n",
       "      <td>Violence and harassment</td>\n",
       "      <td>0</td>\n",
       "      <td>2015-07-12 15:37:00</td>\n",
       "      <td>42.312243</td>\n",
       "      <td>-71.075499</td>\n",
       "      <td>Roxbury</td>\n",
       "      <td>42.328894</td>\n",
       "      <td>-71.085359</td>\n",
       "      <td>2.021175</td>\n",
       "    </tr>\n",
       "    <tr>\n",
       "      <th>3</th>\n",
       "      <td>I182054888</td>\n",
       "      <td>Other</td>\n",
       "      <td>0</td>\n",
       "      <td>2015-07-12 15:37:00</td>\n",
       "      <td>42.312243</td>\n",
       "      <td>-71.075499</td>\n",
       "      <td>Roxbury</td>\n",
       "      <td>42.328894</td>\n",
       "      <td>-71.085359</td>\n",
       "      <td>2.021175</td>\n",
       "    </tr>\n",
       "    <tr>\n",
       "      <th>4</th>\n",
       "      <td>I182054888</td>\n",
       "      <td>Other</td>\n",
       "      <td>0</td>\n",
       "      <td>2015-07-12 15:37:00</td>\n",
       "      <td>42.312243</td>\n",
       "      <td>-71.075499</td>\n",
       "      <td>Roxbury</td>\n",
       "      <td>42.328894</td>\n",
       "      <td>-71.085359</td>\n",
       "      <td>2.021175</td>\n",
       "    </tr>\n",
       "  </tbody>\n",
       "</table>\n",
       "</div>"
      ],
      "text/plain": [
       "  INCIDENT_NUMBER       OFFENSE_CODE_GROUP  SHOOTING     OCCURRED_ON_DATE  \\\n",
       "0      I192068249                    Other         0  2015-08-28 10:20:00   \n",
       "1      I182074094  Violence and harassment         0  2015-09-14 09:31:00   \n",
       "2      I182054888  Violence and harassment         0  2015-07-12 15:37:00   \n",
       "3      I182054888                    Other         0  2015-07-12 15:37:00   \n",
       "4      I182054888                    Other         0  2015-07-12 15:37:00   \n",
       "\n",
       "         LAT       LONG     NAME  LAT_POLICE_STATION  LONG_POLICE_STATION  \\\n",
       "0  42.330119 -71.084251  Roxbury           42.328894           -71.085359   \n",
       "1  42.315142 -71.067047  Roxbury           42.328894           -71.085359   \n",
       "2  42.312243 -71.075499  Roxbury           42.328894           -71.085359   \n",
       "3  42.312243 -71.075499  Roxbury           42.328894           -71.085359   \n",
       "4  42.312243 -71.075499  Roxbury           42.328894           -71.085359   \n",
       "\n",
       "   AVG_HAVERSINE_DISTANCE  \n",
       "0                0.163832  \n",
       "1                2.145919  \n",
       "2                2.021175  \n",
       "3                2.021175  \n",
       "4                2.021175  "
      ]
     },
     "metadata": {},
     "output_type": "display_data"
    }
   ],
   "source": [
    "dfp.head()"
   ]
  },
  {
   "cell_type": "markdown",
   "metadata": {},
   "source": [
    "## 1.1 Rank the number of incidents by category"
   ]
  },
  {
   "cell_type": "code",
   "execution_count": null,
   "metadata": {},
   "outputs": [],
   "source": [
    "dfp['OCCURRED_ON_DATE'] = pd.to_datetime(dfp['OCCURRED_ON_DATE'])"
   ]
  },
  {
   "cell_type": "code",
   "execution_count": null,
   "metadata": {},
   "outputs": [],
   "source": [
    "dfp = dfp.loc[dfp['SHOOTING']==1]"
   ]
  },
  {
   "cell_type": "code",
   "execution_count": null,
   "metadata": {},
   "outputs": [
    {
     "data": {
      "text/plain": [
       "(377, array([1]))"
      ]
     },
     "metadata": {},
     "output_type": "display_data"
    }
   ],
   "source": [
    "dfp.duplicated().sum(), np.unique(dfp['SHOOTING'])"
   ]
  },
  {
   "cell_type": "code",
   "execution_count": null,
   "metadata": {},
   "outputs": [
    {
     "data": {
      "text/plain": [
       "array(['Drugs and disorderly conduct', 'Fraud and law violations',\n",
       "       'Larceny and vandalism', 'Other', 'Police investigation procedure',\n",
       "       'Violence and harassment'], dtype=object)"
      ]
     },
     "metadata": {},
     "output_type": "display_data"
    }
   ],
   "source": [
    "np.unique(dfp['OFFENSE_CODE_GROUP'])"
   ]
  },
  {
   "cell_type": "code",
   "execution_count": null,
   "metadata": {},
   "outputs": [
    {
     "data": {
      "text/plain": [
       "Violence and harassment           861\n",
       "Police investigation procedure    262\n",
       "Fraud and law violations          115\n",
       "Larceny and vandalism              55\n",
       "Drugs and disorderly conduct       45\n",
       "Other                              17\n",
       "Name: OFFENSE_CODE_GROUP, dtype: int64"
      ]
     },
     "metadata": {},
     "output_type": "display_data"
    }
   ],
   "source": [
    "pd.Series(dfp['OFFENSE_CODE_GROUP']).value_counts()"
   ]
  },
  {
   "cell_type": "code",
   "execution_count": null,
   "metadata": {},
   "outputs": [],
   "source": [
    "sht = dfp.groupby(['OFFENSE_CODE_GROUP']).count()"
   ]
  },
  {
   "cell_type": "code",
   "execution_count": null,
   "metadata": {},
   "outputs": [],
   "source": [
    "sht = sht[['INCIDENT_NUMBER']].sort_values(by='INCIDENT_NUMBER', ascending=False)"
   ]
  },
  {
   "cell_type": "code",
   "execution_count": null,
   "metadata": {},
   "outputs": [],
   "source": [
    "sht = sht.reset_index()"
   ]
  },
  {
   "cell_type": "code",
   "execution_count": null,
   "metadata": {},
   "outputs": [
    {
     "data": {
      "text/html": [
       "<div>\n",
       "<style scoped>\n",
       "    .dataframe tbody tr th:only-of-type {\n",
       "        vertical-align: middle;\n",
       "    }\n",
       "\n",
       "    .dataframe tbody tr th {\n",
       "        vertical-align: top;\n",
       "    }\n",
       "\n",
       "    .dataframe thead th {\n",
       "        text-align: right;\n",
       "    }\n",
       "</style>\n",
       "<table border=\"1\" class=\"dataframe\">\n",
       "  <thead>\n",
       "    <tr style=\"text-align: right;\">\n",
       "      <th></th>\n",
       "      <th>OFFENSE_CODE_GROUP</th>\n",
       "      <th>INCIDENT_NUMBER</th>\n",
       "    </tr>\n",
       "  </thead>\n",
       "  <tbody>\n",
       "    <tr>\n",
       "      <th>0</th>\n",
       "      <td>Violence and harassment</td>\n",
       "      <td>861</td>\n",
       "    </tr>\n",
       "    <tr>\n",
       "      <th>1</th>\n",
       "      <td>Police investigation procedure</td>\n",
       "      <td>262</td>\n",
       "    </tr>\n",
       "    <tr>\n",
       "      <th>2</th>\n",
       "      <td>Fraud and law violations</td>\n",
       "      <td>115</td>\n",
       "    </tr>\n",
       "    <tr>\n",
       "      <th>3</th>\n",
       "      <td>Larceny and vandalism</td>\n",
       "      <td>55</td>\n",
       "    </tr>\n",
       "    <tr>\n",
       "      <th>4</th>\n",
       "      <td>Drugs and disorderly conduct</td>\n",
       "      <td>45</td>\n",
       "    </tr>\n",
       "    <tr>\n",
       "      <th>5</th>\n",
       "      <td>Other</td>\n",
       "      <td>17</td>\n",
       "    </tr>\n",
       "  </tbody>\n",
       "</table>\n",
       "</div>"
      ],
      "text/plain": [
       "               OFFENSE_CODE_GROUP  INCIDENT_NUMBER\n",
       "0         Violence and harassment              861\n",
       "1  Police investigation procedure              262\n",
       "2        Fraud and law violations              115\n",
       "3           Larceny and vandalism               55\n",
       "4    Drugs and disorderly conduct               45\n",
       "5                           Other               17"
      ]
     },
     "metadata": {},
     "output_type": "display_data"
    }
   ],
   "source": [
    "sht"
   ]
  },
  {
   "cell_type": "code",
   "execution_count": null,
   "metadata": {},
   "outputs": [],
   "source": [
    "dst = dfp.groupby(['NAME']).count()"
   ]
  },
  {
   "cell_type": "markdown",
   "metadata": {},
   "source": [
    "## 1.2 Which district has the most incidents?"
   ]
  },
  {
   "cell_type": "code",
   "execution_count": null,
   "metadata": {},
   "outputs": [
    {
     "data": {
      "text/html": [
       "<div>\n",
       "<style scoped>\n",
       "    .dataframe tbody tr th:only-of-type {\n",
       "        vertical-align: middle;\n",
       "    }\n",
       "\n",
       "    .dataframe tbody tr th {\n",
       "        vertical-align: top;\n",
       "    }\n",
       "\n",
       "    .dataframe thead th {\n",
       "        text-align: right;\n",
       "    }\n",
       "</style>\n",
       "<table border=\"1\" class=\"dataframe\">\n",
       "  <thead>\n",
       "    <tr style=\"text-align: right;\">\n",
       "      <th></th>\n",
       "      <th>INCIDENT_NUMBER</th>\n",
       "    </tr>\n",
       "    <tr>\n",
       "      <th>NAME</th>\n",
       "      <th></th>\n",
       "    </tr>\n",
       "  </thead>\n",
       "  <tbody>\n",
       "    <tr>\n",
       "      <th>Roxbury</th>\n",
       "      <td>487</td>\n",
       "    </tr>\n",
       "    <tr>\n",
       "      <th>Mattapan</th>\n",
       "      <td>297</td>\n",
       "    </tr>\n",
       "    <tr>\n",
       "      <th>Dorchester</th>\n",
       "      <td>239</td>\n",
       "    </tr>\n",
       "    <tr>\n",
       "      <th>Jamaica Plain</th>\n",
       "      <td>86</td>\n",
       "    </tr>\n",
       "    <tr>\n",
       "      <th>South End</th>\n",
       "      <td>68</td>\n",
       "    </tr>\n",
       "    <tr>\n",
       "      <th>South Boston</th>\n",
       "      <td>47</td>\n",
       "    </tr>\n",
       "    <tr>\n",
       "      <th>Hyde Park</th>\n",
       "      <td>40</td>\n",
       "    </tr>\n",
       "    <tr>\n",
       "      <th>Brighton</th>\n",
       "      <td>24</td>\n",
       "    </tr>\n",
       "    <tr>\n",
       "      <th>East Boston</th>\n",
       "      <td>23</td>\n",
       "    </tr>\n",
       "    <tr>\n",
       "      <th>West Roxbury</th>\n",
       "      <td>20</td>\n",
       "    </tr>\n",
       "    <tr>\n",
       "      <th>Downtown</th>\n",
       "      <td>19</td>\n",
       "    </tr>\n",
       "    <tr>\n",
       "      <th>Charlestown</th>\n",
       "      <td>5</td>\n",
       "    </tr>\n",
       "  </tbody>\n",
       "</table>\n",
       "</div>"
      ],
      "text/plain": [
       "               INCIDENT_NUMBER\n",
       "NAME                          \n",
       "Roxbury                    487\n",
       "Mattapan                   297\n",
       "Dorchester                 239\n",
       "Jamaica Plain               86\n",
       "South End                   68\n",
       "South Boston                47\n",
       "Hyde Park                   40\n",
       "Brighton                    24\n",
       "East Boston                 23\n",
       "West Roxbury                20\n",
       "Downtown                    19\n",
       "Charlestown                  5"
      ]
     },
     "metadata": {},
     "output_type": "display_data"
    }
   ],
   "source": [
    "dst[['INCIDENT_NUMBER']].sort_values(by='INCIDENT_NUMBER', ascending=False)"
   ]
  },
  {
   "cell_type": "code",
   "execution_count": null,
   "metadata": {},
   "outputs": [
    {
     "data": {
      "image/png": "[encoded data removed]",
      "text/plain": [
       "<Figure size 3000x2000 with 1 Axes>"
      ]
     },
     "metadata": {},
     "output_type": "display_data"
    }
   ],
   "source": [
    "y = [i for i in sht.loc[:,'OFFENSE_CODE_GROUP']]\n",
    "y_pos = np.arange(len(y))\n",
    "x = [i for i in sht.loc[:,'INCIDENT_NUMBER']]\n",
    "\n",
    "fig, ax = plt.subplots()\n",
    "ax.barh(y_pos, x, align='center')\n",
    "ax.set_yticks(y_pos, labels=y)\n",
    "ax.invert_yaxis()  # labels read top-to-bottom\n",
    "ax.set_xlabel('Number of Shootings')\n",
    "ax.set_title('Shootings per Crime')\n",
    "fig.set_dpi(500)\n",
    "plt.show()"
   ]
  },
  {
   "cell_type": "markdown",
   "metadata": {},
   "source": [
    "## 1.3 Identifying the sensistive timeframes"
   ]
  },
  {
   "cell_type": "code",
   "execution_count": null,
   "metadata": {},
   "outputs": [],
   "source": [
    "hours_df = dfp.copy()"
   ]
  },
  {
   "cell_type": "code",
   "execution_count": null,
   "metadata": {},
   "outputs": [],
   "source": [
    "hours_df['DAY_WEEK'] = [i.day_of_week for i in hours_df['OCCURRED_ON_DATE']]\n",
    "hours_df['DAY_NAME'] = [i.day_name() for i in hours_df['OCCURRED_ON_DATE']]\n",
    "hours_df['HOUR'] = hours_df['OCCURRED_ON_DATE'].dt.hour"
   ]
  },
  {
   "cell_type": "code",
   "execution_count": null,
   "metadata": {},
   "outputs": [
    {
     "data": {
      "text/html": [
       "<div>\n",
       "<style scoped>\n",
       "    .dataframe tbody tr th:only-of-type {\n",
       "        vertical-align: middle;\n",
       "    }\n",
       "\n",
       "    .dataframe tbody tr th {\n",
       "        vertical-align: top;\n",
       "    }\n",
       "\n",
       "    .dataframe thead th {\n",
       "        text-align: right;\n",
       "    }\n",
       "</style>\n",
       "<table border=\"1\" class=\"dataframe\">\n",
       "  <thead>\n",
       "    <tr style=\"text-align: right;\">\n",
       "      <th></th>\n",
       "      <th>INCIDENT_NUMBER</th>\n",
       "      <th>OFFENSE_CODE_GROUP</th>\n",
       "      <th>SHOOTING</th>\n",
       "      <th>OCCURRED_ON_DATE</th>\n",
       "      <th>LAT</th>\n",
       "      <th>LONG</th>\n",
       "      <th>NAME</th>\n",
       "      <th>LAT_POLICE_STATION</th>\n",
       "      <th>LONG_POLICE_STATION</th>\n",
       "      <th>AVG_HAVERSINE_DISTANCE</th>\n",
       "      <th>DAY_WEEK</th>\n",
       "      <th>DAY_NAME</th>\n",
       "      <th>HOUR</th>\n",
       "    </tr>\n",
       "  </thead>\n",
       "  <tbody>\n",
       "    <tr>\n",
       "      <th>212</th>\n",
       "      <td>I152106351</td>\n",
       "      <td>Violence and harassment</td>\n",
       "      <td>1</td>\n",
       "      <td>2015-12-25 17:27:00</td>\n",
       "      <td>42.323655</td>\n",
       "      <td>-71.085182</td>\n",
       "      <td>Roxbury</td>\n",
       "      <td>42.328894</td>\n",
       "      <td>-71.085359</td>\n",
       "      <td>0.582712</td>\n",
       "      <td>4</td>\n",
       "      <td>Friday</td>\n",
       "      <td>17</td>\n",
       "    </tr>\n",
       "    <tr>\n",
       "      <th>310</th>\n",
       "      <td>I152105346</td>\n",
       "      <td>Violence and harassment</td>\n",
       "      <td>1</td>\n",
       "      <td>2015-12-21 21:46:00</td>\n",
       "      <td>42.321273</td>\n",
       "      <td>-71.082875</td>\n",
       "      <td>Roxbury</td>\n",
       "      <td>42.328894</td>\n",
       "      <td>-71.085359</td>\n",
       "      <td>0.871628</td>\n",
       "      <td>0</td>\n",
       "      <td>Monday</td>\n",
       "      <td>21</td>\n",
       "    </tr>\n",
       "    <tr>\n",
       "      <th>413</th>\n",
       "      <td>I152104401</td>\n",
       "      <td>Police investigation procedure</td>\n",
       "      <td>1</td>\n",
       "      <td>2015-12-18 16:00:00</td>\n",
       "      <td>42.335062</td>\n",
       "      <td>-71.093168</td>\n",
       "      <td>Roxbury</td>\n",
       "      <td>42.328894</td>\n",
       "      <td>-71.085359</td>\n",
       "      <td>0.939376</td>\n",
       "      <td>4</td>\n",
       "      <td>Friday</td>\n",
       "      <td>16</td>\n",
       "    </tr>\n",
       "    <tr>\n",
       "      <th>414</th>\n",
       "      <td>I152104401</td>\n",
       "      <td>Violence and harassment</td>\n",
       "      <td>1</td>\n",
       "      <td>2015-12-18 16:00:00</td>\n",
       "      <td>42.335062</td>\n",
       "      <td>-71.093168</td>\n",
       "      <td>Roxbury</td>\n",
       "      <td>42.328894</td>\n",
       "      <td>-71.085359</td>\n",
       "      <td>0.939376</td>\n",
       "      <td>4</td>\n",
       "      <td>Friday</td>\n",
       "      <td>16</td>\n",
       "    </tr>\n",
       "    <tr>\n",
       "      <th>415</th>\n",
       "      <td>I152104401</td>\n",
       "      <td>Fraud and law violations</td>\n",
       "      <td>1</td>\n",
       "      <td>2015-12-18 16:00:00</td>\n",
       "      <td>42.335062</td>\n",
       "      <td>-71.093168</td>\n",
       "      <td>Roxbury</td>\n",
       "      <td>42.328894</td>\n",
       "      <td>-71.085359</td>\n",
       "      <td>0.939376</td>\n",
       "      <td>4</td>\n",
       "      <td>Friday</td>\n",
       "      <td>16</td>\n",
       "    </tr>\n",
       "  </tbody>\n",
       "</table>\n",
       "</div>"
      ],
      "text/plain": [
       "    INCIDENT_NUMBER              OFFENSE_CODE_GROUP  SHOOTING  \\\n",
       "212      I152106351         Violence and harassment         1   \n",
       "310      I152105346         Violence and harassment         1   \n",
       "413      I152104401  Police investigation procedure         1   \n",
       "414      I152104401         Violence and harassment         1   \n",
       "415      I152104401        Fraud and law violations         1   \n",
       "\n",
       "       OCCURRED_ON_DATE        LAT       LONG     NAME  LAT_POLICE_STATION  \\\n",
       "212 2015-12-25 17:27:00  42.323655 -71.085182  Roxbury           42.328894   \n",
       "310 2015-12-21 21:46:00  42.321273 -71.082875  Roxbury           42.328894   \n",
       "413 2015-12-18 16:00:00  42.335062 -71.093168  Roxbury           42.328894   \n",
       "414 2015-12-18 16:00:00  42.335062 -71.093168  Roxbury           42.328894   \n",
       "415 2015-12-18 16:00:00  42.335062 -71.093168  Roxbury           42.328894   \n",
       "\n",
       "     LONG_POLICE_STATION  AVG_HAVERSINE_DISTANCE  DAY_WEEK DAY_NAME  HOUR  \n",
       "212           -71.085359                0.582712         4   Friday    17  \n",
       "310           -71.085359                0.871628         0   Monday    21  \n",
       "413           -71.085359                0.939376         4   Friday    16  \n",
       "414           -71.085359                0.939376         4   Friday    16  \n",
       "415           -71.085359                0.939376         4   Friday    16  "
      ]
     },
     "metadata": {},
     "output_type": "display_data"
    }
   ],
   "source": [
    "hours_df.head()"
   ]
  },
  {
   "cell_type": "code",
   "execution_count": null,
   "metadata": {},
   "outputs": [],
   "source": [
    "pie_df = hours_df.groupby(by=[\"DAY_WEEK\"], dropna=False).sum()"
   ]
  },
  {
   "cell_type": "code",
   "execution_count": null,
   "metadata": {},
   "outputs": [
    {
     "data": {
      "image/png": "[encoded data removed]",
      "text/plain": [
       "<Figure size 720x480 with 1 Axes>"
      ]
     },
     "metadata": {},
     "output_type": "display_data"
    }
   ],
   "source": [
    "EXPLODE = (0, 0, 0, 0 ,0,0.1,0)\n",
    "COLORS = ['#92c0d3','#66b3ff','#809988','#d0e3e2', '#0a638e' , '#ac1d1c' , '#36563E' ]\n",
    "LABELS = ['Monday','Tuesday','Wednesday','Thursday','Friday','Saturday', 'Sunday']\n",
    "\n",
    "\n",
    "fig1, ax1 = plt.subplots()\n",
    "ax1.pie(pie_df.SHOOTING, explode=EXPLODE, shadow=True, startangle=90, labels=LABELS, autopct='%1.1f%%', colors=COLORS);\n",
    "ax1.axis('equal')  # Equal aspect ratio ensures that pie is drawn as a circle.\n",
    "plt.suptitle('[Shootings per Day of the Week]')\n",
    "fig1.set_dpi(120)\n",
    "plt.show()"
   ]
  },
  {
   "cell_type": "code",
   "execution_count": null,
   "metadata": {},
   "outputs": [
    {
     "data": {
      "image/png": "[encoded data removed]",
      "text/plain": [
       "<Figure size 600x400 with 1 Axes>"
      ]
     },
     "metadata": {},
     "output_type": "display_data"
    }
   ],
   "source": [
    "xtick_labels = ['00h','' ,'02h','','04h','', '06h','' ,'08h', '','10h', '','12h', '','14h', '','16h', '','18h', '','20h', '', '22h', '']\n",
    "xticks = [i for i in range(24)]\n",
    "\n",
    "fig0, ax0 = plt.subplots()\n",
    "plt.hist(hours_df['HOUR'], bins=96, histtype='step');\n",
    "plt.suptitle('[Shootings per Hour in a Day]')\n",
    "ax0.set_xticks(xticks)\n",
    "ax0.set_xticklabels(xtick_labels)\n",
    "fig0.set_dpi(100)\n",
    "plt.show()"
   ]
  },
  {
   "cell_type": "markdown",
   "metadata": {},
   "source": [
    "## 1.4 Identifying the Shooting situations"
   ]
  },
  {
   "cell_type": "code",
   "execution_count": null,
   "metadata": {},
   "outputs": [],
   "source": [
    "shootings_clean = dfp.loc[dfp['OFFENSE_CODE_GROUP']=='Violence and harassment']"
   ]
  },
  {
   "cell_type": "code",
   "execution_count": null,
   "metadata": {},
   "outputs": [
    {
     "data": {
      "application/vnd.plotly.v1+json": {
       "config": {
        "plotlyServerURL": "https://plot.ly"
       },
       "data": [
        {
         "geo": "geo",
         "hovertemplate": "NAME=Roxbury<br>LAT=%{lat}<br>LONG=%{lon}<extra></extra>",
         "lat": [
          42.32365518,
          42.32127341,
          42.33506218,
          42.33506218,
          42.33506218,
          42.33380529,
          42.32104169,
          42.33358389,
          42.30733393,
          42.33087008,
          42.31676691,
          42.3346705,
          42.32734041,
          42.3220384,
          42.31049939,
          42.33421,
          42.31632131,
          42.32435506,
          42.31195475,
          42.31195475,
          42.31195475,
          42.31195475,
          42.31195475,
          42.31195475,
          42.31195475,
          42.31195475,
          42.32863172,
          42.32019753,
          42.33297865,
          42.33506218,
          42.32082221,
          42.32082221,
          42.32082221,
          42.31531614,
          42.30505376,
          42.31127726,
          42.31127726,
          42.30956305,
          42.3208382,
          42.33371742,
          42.33371742,
          42.32849143,
          42.32849143,
          42.30649283,
          42.30649283,
          42.30812619,
          42.32095696,
          42.31705618,
          42.31996758,
          42.31915702,
          42.31915702,
          42.31512218,
          42.31512218,
          42.31512218,
          42.31512218,
          42.33606304,
          42.32696802,
          42.32696802,
          42.32696802,
          42.32696802,
          42.31632131,
          42.31780762,
          42.33358389,
          42.31161123,
          42.31161123,
          42.31161123,
          42.32095643,
          42.32095643,
          42.33110131,
          42.33110131,
          42.31996758,
          42.31996758,
          42.31679542,
          42.32874077,
          42.31038717,
          42.3072423,
          42.31498564,
          42.33606304,
          42.31820434,
          42.31820434,
          42.33363658,
          42.33363658,
          42.3250287,
          42.31086842,
          42.328597,
          42.30664081,
          42.31921209,
          42.31996824,
          42.30664081,
          42.32882991,
          42.32882991,
          42.33506218,
          42.32300514,
          42.32909775,
          42.3162513,
          42.3162513,
          42.31283412,
          42.323561100000006,
          42.31759494,
          42.334912,
          42.32105956,
          42.31814836,
          42.31814836,
          42.31814836,
          42.31814836,
          42.31814836,
          42.31814836,
          42.31803027,
          42.3219697,
          42.32672962,
          42.31190343,
          42.31633855,
          42.31996758,
          42.31996758,
          42.31996758,
          42.32150685,
          42.3291465,
          42.33332888,
          42.33332888,
          42.30775024,
          42.30775024,
          42.30775024,
          42.30775024,
          42.31799862,
          42.30812619,
          42.30938437,
          42.30938437,
          42.30878855,
          42.333382,
          42.30976163,
          42.32136484,
          42.32019753,
          42.32019753,
          42.30812619,
          42.31404391,
          42.31788029,
          42.31788029,
          42.32872796,
          42.33367922,
          42.33367922,
          42.33367922,
          42.33367922,
          42.30956305,
          42.3252158,
          42.32317285,
          42.3126054,
          42.31594507,
          42.33511654,
          42.32059748,
          42.33506218,
          42.33506218,
          42.3285094,
          42.33627151,
          42.33178186,
          42.33178186,
          42.33178186,
          42.31089986,
          42.31579265,
          42.3290038,
          42.31514179,
          42.31993148,
          42.31993148,
          42.33506218,
          42.32692266,
          42.333382,
          42.32832264,
          42.31424838,
          42.322573,
          42.30799051,
          42.32525137,
          42.32104169,
          42.3208382,
          42.3208382,
          42.32320895,
          42.32221645,
          42.32734041,
          42.32734041,
          42.30876959,
          42.30784206,
          42.32022882,
          42.32022882,
          42.32282213,
          42.3263576,
          42.33308097,
          42.333382,
          42.30846634,
          42.30846634,
          42.30846634,
          42.30846634,
          42.31242132,
          42.31582829,
          42.32950632,
          42.32950632,
          42.32950632,
          42.33506218,
          42.32251511,
          42.31186553,
          42.31017838,
          42.31017838,
          42.31801549,
          42.33506218,
          42.31632131,
          42.32696928,
          42.32667212,
          42.32893451,
          42.32272473,
          42.32272473,
          42.30756687,
          42.30756687,
          42.31195475,
          42.33445761,
          42.31635508,
          42.3219484,
          42.32866284,
          42.31252546,
          42.31283412,
          42.33036581,
          42.33036581,
          42.33407232,
          42.32200511,
          42.32991249,
          42.32866284,
          42.32866284,
          42.32755105,
          42.32082221,
          42.31803027,
          42.31803027,
          42.32547404,
          42.32872589,
          42.32872589,
          42.32872589,
          42.31610842,
          42.30391522,
          42.32104169,
          42.326372,
          42.3232211,
          42.3146052,
          42.3146052,
          42.3221881,
          42.31781138,
          42.31803027,
          42.30455372,
          42.33248759,
          42.31894677,
          42.30703587,
          42.30703587,
          42.32104169,
          42.31568920000001,
          42.32579408,
          42.33380238,
          42.31242132,
          42.31841535,
          42.31224327,
          42.31224327,
          42.31224327,
          42.31224327,
          42.31368925,
          42.31499803,
          42.30660388,
          42.31633855,
          42.31959298,
          42.32022882,
          42.3219484,
          42.3219484,
          42.3219484,
          42.3219484,
          42.3219484,
          42.3219484,
          42.3219484,
          42.3219484,
          42.31049939,
          42.31049939,
          42.31462973,
          42.32882991,
          42.31368925,
          42.31535276,
          42.33954199,
          42.30711484,
          42.3290038,
          42.3290038,
          42.32221645,
          42.32221645,
          42.32380776,
          42.32424069,
          42.32047753,
          42.31632131,
          42.31348708,
          42.31348708,
          42.30545103,
          42.30545103,
          42.33380238,
          42.31190459
         ],
         "legendgroup": "Roxbury",
         "lon": [
          -71.0851821,
          -71.08287531,
          -71.09316781,
          -71.09316781,
          -71.09316781,
          -71.09377598,
          -71.07215291,
          -71.08554259,
          -71.0763704,
          -71.08909494,
          -71.07714054,
          -71.088934,
          -71.07945869,
          -71.07140396,
          -71.07733579,
          -71.104919,
          -71.0892305,
          -71.07440305,
          -71.07871912,
          -71.07871912,
          -71.07871912,
          -71.07871912,
          -71.07871912,
          -71.07871912,
          -71.07871912,
          -71.07871912,
          -71.08309899,
          -71.06641761,
          -71.08795759,
          -71.09316781,
          -71.09731506,
          -71.09731506,
          -71.09731506,
          -71.09071957,
          -71.08403633,
          -71.08909334,
          -71.08909334,
          -71.08990197,
          -71.09018598,
          -71.09665806,
          -71.09665806,
          -71.08121253,
          -71.08121253,
          -71.08180677,
          -71.08180677,
          -71.07692974,
          -71.09680448,
          -71.08652731,
          -71.08715022,
          -71.08601949999998,
          -71.08601949999998,
          -71.0825202,
          -71.0825202,
          -71.0825202,
          -71.0825202,
          -71.10782832,
          -71.08051941,
          -71.08051941,
          -71.08051941,
          -71.08051941,
          -71.0892305,
          -71.06684990000002,
          -71.08554259,
          -71.076256,
          -71.076256,
          -71.076256,
          -71.06992609999998,
          -71.06992609999998,
          -71.10870352,
          -71.10870352,
          -71.08715022,
          -71.08715022,
          -71.07964562,
          -71.08771559,
          -71.0805453,
          -71.08551704,
          -71.08194639,
          -71.10782832,
          -71.06657287,
          -71.06657287,
          -71.09841709,
          -71.09841709,
          -71.07341448,
          -71.07425854,
          -71.08274741,
          -71.08584976,
          -71.06615772,
          -71.08859562,
          -71.08584976,
          -71.08144379,
          -71.08144379,
          -71.09316781,
          -71.08081696,
          -71.07906694,
          -71.07289969,
          -71.07289969,
          -71.08974712,
          -71.07374226,
          -71.08970440000002,
          -71.088464,
          -71.07313291,
          -71.06708346,
          -71.06708346,
          -71.06708346,
          -71.06708346,
          -71.06708346,
          -71.06708346,
          -71.07787472,
          -71.07242529,
          -71.08570602,
          -71.09255937,
          -71.06879992,
          -71.08715022,
          -71.08715022,
          -71.08715022,
          -71.07076276,
          -71.0810989,
          -71.10659534,
          -71.10659534,
          -71.08273084,
          -71.08273084,
          -71.08273084,
          -71.08273084,
          -71.06729022,
          -71.07692974,
          -71.08262277,
          -71.08262277,
          -71.09055618,
          -71.08745421,
          -71.08386431,
          -71.07220670000002,
          -71.06641761,
          -71.06641761,
          -71.07692974,
          -71.07917986,
          -71.0862988,
          -71.0862988,
          -71.09108826,
          -71.09187755,
          -71.09187755,
          -71.09187755,
          -71.09187755,
          -71.08990197,
          -71.07492178,
          -71.08773656,
          -71.07624159,
          -71.09043142,
          -71.10767674,
          -71.06490117,
          -71.09316781,
          -71.09316781,
          -71.08043739,
          -71.09187628,
          -71.09718868,
          -71.09718868,
          -71.09718868,
          -71.08007661,
          -71.06693528,
          -71.07838214,
          -71.06704709,
          -71.06368978,
          -71.06368978,
          -71.09316781,
          -71.08313475,
          -71.08745421,
          -71.07861091,
          -71.07811402,
          -71.07357583,
          -71.08639196,
          -71.08459937,
          -71.07215291,
          -71.09018598,
          -71.09018598,
          -71.08432965,
          -71.08206723,
          -71.07945869,
          -71.07945869,
          -71.07460717,
          -71.08650939,
          -71.06307063,
          -71.06307063,
          -71.07984061,
          -71.07886301,
          -71.10165376,
          -71.08745421,
          -71.08327829999998,
          -71.08327829999998,
          -71.08327829999998,
          -71.08327829999998,
          -71.09154902,
          -71.09347096,
          -71.08398018,
          -71.08398018,
          -71.08398018,
          -71.09316781,
          -71.09080341,
          -71.07668603,
          -71.07651047,
          -71.07651047,
          -71.07391773,
          -71.09316781,
          -71.0892305,
          -71.09329249,
          -71.07977739,
          -71.0791325,
          -71.08877863,
          -71.08877863,
          -71.07608067,
          -71.07608067,
          -71.07871912,
          -71.088061,
          -71.06593853,
          -71.08138427,
          -71.08563401,
          -71.07389321,
          -71.08974712,
          -71.08539259,
          -71.08539259,
          -71.10792519,
          -71.07585885,
          -71.07875908,
          -71.08563401,
          -71.08563401,
          -71.0691618,
          -71.09731506,
          -71.07787472,
          -71.07787472,
          -71.08749972,
          -71.08382217,
          -71.08382217,
          -71.08382217,
          -71.07063541,
          -71.08510251,
          -71.07215291,
          -71.09971,
          -71.07197393,
          -71.07207475,
          -71.07207475,
          -71.09263314,
          -71.07759709999998,
          -71.07787472,
          -71.08295366,
          -71.08365801,
          -71.0745277,
          -71.08410227,
          -71.08410227,
          -71.07215291,
          -71.08951391,
          -71.08563758,
          -71.08880867,
          -71.09154902,
          -71.07602496,
          -71.07549901,
          -71.07549901,
          -71.07549901,
          -71.07549901,
          -71.0742708,
          -71.09194485,
          -71.08055038,
          -71.06879992,
          -71.062607,
          -71.06307063,
          -71.08138427,
          -71.08138427,
          -71.08138427,
          -71.08138427,
          -71.08138427,
          -71.08138427,
          -71.08138427,
          -71.08138427,
          -71.07733579,
          -71.07733579,
          -71.0926152,
          -71.08144379,
          -71.0742708,
          -71.07304299,
          -71.06940877,
          -71.08425151,
          -71.07838214,
          -71.07838214,
          -71.08206723,
          -71.08206723,
          -71.08915023,
          -71.07761917,
          -71.07273673,
          -71.0892305,
          -71.08460242,
          -71.08460242,
          -71.08057209,
          -71.08057209,
          -71.08880867,
          -71.09049521
         ],
         "marker": {
          "color": "#fa9731",
          "symbol": "circle"
         },
         "mode": "markers",
         "name": "Roxbury",
         "showlegend": true,
         "type": "scattergeo"
        },
        {
         "geo": "geo",
         "hovertemplate": "NAME=Dorchester<br>LAT=%{lat}<br>LONG=%{lon}<extra></extra>",
         "lat": [
          42.29848866,
          42.30422029,
          42.2952182,
          42.2952182,
          42.30422176,
          42.28995318,
          42.29526287,
          42.31363409,
          42.30336787,
          42.30500848,
          42.30270433,
          42.30481467,
          42.31319382,
          42.31319382,
          42.30626521,
          42.30723714,
          42.30116123,
          42.30116123,
          42.29026471,
          42.29214062,
          42.30431938,
          42.30540715,
          42.29481426,
          42.30328747,
          42.29881968,
          42.2991807,
          42.30422176,
          42.30422176,
          42.29480297,
          42.28963220000001,
          42.3031123,
          42.31154172,
          42.29653192,
          42.2901783,
          42.2901783,
          42.2901783,
          42.30626521,
          42.30010597,
          42.30511791,
          42.30511791,
          42.31184601,
          42.30444352,
          42.30444352,
          42.31212341,
          42.31319382,
          42.31319382,
          42.28921036,
          42.29025219,
          42.30870401,
          42.31290014,
          42.314019,
          42.28724944,
          42.28724944,
          42.28908473,
          42.28908473,
          42.28466568,
          42.28466568,
          42.31424792,
          42.30028028,
          42.28581121,
          42.2991807,
          42.30338366,
          42.31509363,
          42.27905426,
          42.27905426,
          42.30839354,
          42.30839354,
          42.30536545,
          42.2991807,
          42.30443502,
          42.29481426,
          42.31853245,
          42.29042439,
          42.30444352,
          42.31396145,
          42.3152619,
          42.28944478,
          42.28944478,
          42.30168622,
          42.30168622,
          42.30385443,
          42.2972764,
          42.29019621,
          42.2984758,
          42.2985085,
          42.31363409,
          42.31363409,
          42.3134571,
          42.30724276,
          42.2991807,
          42.2991807,
          42.28519774,
          42.29979065,
          42.30183841,
          42.30183841,
          42.28250165,
          42.30870401,
          42.31326923,
          42.31326923,
          42.30080999,
          42.31475867,
          42.30116811,
          42.33367922,
          42.33367922,
          42.31106545,
          42.31250816,
          42.31250816,
          42.31250816,
          42.29766417,
          42.28262406,
          42.31363409,
          42.30536545,
          42.30209443,
          42.30618185,
          42.30584423,
          42.29524857,
          42.3036967,
          42.3036967,
          42.28866198,
          42.30175049,
          42.30027166,
          42.29990887,
          42.29990887,
          42.29798785,
          42.29290563,
          42.29307537,
          42.28164735,
          42.30947016,
          42.31526714,
          42.31526714,
          42.29328831,
          42.30234412,
          42.30234412,
          42.31600283,
          42.30155019,
          42.31959298,
          42.29685211,
          42.30859659,
          42.30540715,
          42.30540715,
          42.30540715,
          42.29808992,
          42.29990887,
          42.29506405,
          42.30553202,
          42.30910324,
          42.30910324,
          42.30910324,
          42.30910324,
          42.30371229,
          42.30022551,
          42.29167441,
          42.29167441,
          42.30555042,
          42.31250816,
          42.31250816,
          42.31250816,
          42.31250816,
          42.30417845
         ],
         "legendgroup": "Dorchester",
         "lon": [
          -71.06313294,
          -71.07840374,
          -71.06068709,
          -71.06068709,
          -71.07918459,
          -71.06076101,
          -71.07207439,
          -71.06778025,
          -71.06827221,
          -71.06606441,
          -71.0734249,
          -71.07218295,
          -71.06500833,
          -71.06500833,
          -71.06864556,
          -71.07623393,
          -71.07284279,
          -71.07284279,
          -71.06599003,
          -71.0520224,
          -71.06962209,
          -71.06547135,
          -71.07200871,
          -71.06363409,
          -71.06570084,
          -71.06429139,
          -71.07918459,
          -71.07918459,
          -71.06175129,
          -71.06490373,
          -71.07707509999999,
          -71.06122543,
          -71.07125916,
          -71.05937392,
          -71.05937392,
          -71.05937392,
          -71.06864556,
          -71.0710271,
          -71.08019088,
          -71.08019088,
          -71.06684447,
          -71.06778638,
          -71.06778638,
          -71.06820729,
          -71.06500833,
          -71.06500833,
          -71.06646501,
          -71.06304942,
          -71.06844484,
          -71.06131063,
          -71.06547605,
          -71.07076867,
          -71.07076867,
          -71.07122181,
          -71.07122181,
          -71.06602188,
          -71.06602188,
          -71.06560782,
          -71.06015261,
          -71.07115483,
          -71.06429139,
          -71.07574685,
          -71.05494154,
          -71.05337772,
          -71.05337772,
          -71.06473124,
          -71.06473124,
          -71.06812632,
          -71.06429139,
          -71.06862907,
          -71.07200871,
          -71.05778998,
          -71.0638074,
          -71.06778638,
          -71.06685455,
          -71.06118848,
          -71.06559395,
          -71.06559395,
          -71.06328901,
          -71.06328901,
          -71.06087585,
          -71.05667294,
          -71.07159012,
          -71.07303154,
          -71.06786956,
          -71.06778025,
          -71.06778025,
          -71.06271009,
          -71.07558677,
          -71.06429139,
          -71.06429139,
          -71.0677511,
          -71.05954439,
          -71.06127819,
          -71.06127819,
          -71.0636383,
          -71.06844484,
          -71.06585779,
          -71.06585779,
          -71.06705066,
          -71.06460890000002,
          -71.07347571,
          -71.09187755,
          -71.09187755,
          -71.06693233,
          -71.06546757,
          -71.06546757,
          -71.06546757,
          -71.06280134,
          -71.05532964,
          -71.06778025,
          -71.06812632,
          -71.06575183,
          -71.06187015,
          -71.06261555,
          -71.07108773,
          -71.07104897,
          -71.07104897,
          -71.06130524,
          -71.05973399999998,
          -71.06838949,
          -71.06424768,
          -71.06424768,
          -71.06506647,
          -71.06955795,
          -71.07183785,
          -71.07111848,
          -71.06664424,
          -71.0630687,
          -71.0630687,
          -71.06219497,
          -71.0763037,
          -71.0763037,
          -71.06272297,
          -71.06235124,
          -71.062607,
          -71.06702258,
          -71.06257749,
          -71.06547135,
          -71.06547135,
          -71.06547135,
          -71.07178667,
          -71.06424768,
          -71.05672533,
          -71.07031161,
          -71.06259482,
          -71.06259482,
          -71.06259482,
          -71.06259482,
          -71.07180723,
          -71.07468313,
          -71.07172281,
          -71.07172281,
          -71.06787929,
          -71.06546757,
          -71.06546757,
          -71.06546757,
          -71.06546757,
          -71.07600129
         ],
         "marker": {
          "color": "#ed2c2a",
          "symbol": "diamond"
         },
         "mode": "markers",
         "name": "Dorchester",
         "showlegend": true,
         "type": "scattergeo"
        },
        {
         "geo": "geo",
         "hovertemplate": "NAME=Downtown<br>LAT=%{lat}<br>LONG=%{lon}<extra></extra>",
         "lat": [
          42.35064439,
          42.34891347,
          42.35106637,
          42.35540738,
          42.34942864,
          42.34942864,
          42.34942864,
          42.34942864,
          42.34942864,
          42.34942864,
          42.34976402,
          42.35207238,
          42.35103105,
          42.34942864,
          42.35521429
         ],
         "legendgroup": "Downtown",
         "lon": [
          -71.06811584,
          -71.06221241,
          -71.06549569,
          -71.06312433,
          -71.06536641,
          -71.06536641,
          -71.06536641,
          -71.06536641,
          -71.06536641,
          -71.06536641,
          -71.06045076,
          -71.05975342,
          -71.06373331,
          -71.06536641,
          -71.06206351
         ],
         "marker": {
          "color": "#92c0d3",
          "symbol": "square"
         },
         "mode": "markers",
         "name": "Downtown",
         "showlegend": true,
         "type": "scattergeo"
        },
        {
         "geo": "geo",
         "hovertemplate": "NAME=Hyde Park<br>LAT=%{lat}<br>LONG=%{lon}<extra></extra>",
         "lat": [
          42.26761320000001,
          42.2656321,
          42.26169686,
          42.2544451,
          42.26414947,
          42.25022843,
          42.28772613,
          42.28772613,
          42.26701085,
          42.28475704,
          42.28732723,
          42.28732723,
          42.28732723,
          42.25220188,
          42.27116072,
          42.2758989,
          42.26361745,
          42.26361745,
          42.25248964,
          42.2661068,
          42.26384592,
          42.25076977,
          42.23631051,
          42.26138821,
          42.28314714,
          42.2504055,
          42.26170286,
          42.26170286,
          42.24186532,
          42.26217287,
          42.26273505,
          42.26506676
         ],
         "legendgroup": "Hyde Park",
         "lon": [
          -71.09848676,
          -71.11051694,
          -71.11387342,
          -71.12242761,
          -71.10088891,
          -71.11831536,
          -71.10678708,
          -71.10678708,
          -71.12096171,
          -71.10961809,
          -71.11769065,
          -71.11769065,
          -71.11769065,
          -71.13095053,
          -71.10814866,
          -71.12566662,
          -71.10237387,
          -71.10237387,
          -71.14188911,
          -71.09656048,
          -71.11038261,
          -71.11401862,
          -71.13231083,
          -71.11210723,
          -71.11374152,
          -71.1317374,
          -71.10221348,
          -71.10221348,
          -71.13277504,
          -71.11245418,
          -71.11078287,
          -71.09768522
         ],
         "marker": {
          "color": "#92c0d3",
          "symbol": "x"
         },
         "mode": "markers",
         "name": "Hyde Park",
         "showlegend": true,
         "type": "scattergeo"
        },
        {
         "geo": "geo",
         "hovertemplate": "NAME=South End<br>LAT=%{lat}<br>LONG=%{lon}<extra></extra>",
         "lat": [
          42.33555954,
          42.33903373,
          42.3353741,
          42.34583312,
          42.34583312,
          42.34583312,
          42.34583312,
          42.33543394,
          42.34091586,
          42.34680574,
          42.34680574,
          42.33593698,
          42.31370136,
          42.35147336,
          42.33936768,
          42.33936768,
          42.33919306,
          42.33965205,
          42.34243945,
          42.34828759,
          42.33543394,
          42.33871587,
          42.34060371,
          42.34060371,
          42.34060371,
          42.34060371,
          42.34060371,
          42.34060371,
          42.33602271,
          42.33738014,
          42.33738014,
          42.33795319,
          42.34063708,
          42.34309082,
          42.33543394
         ],
         "legendgroup": "South End",
         "lon": [
          -71.07436364,
          -71.07997273,
          -71.0783156,
          -71.09845531,
          -71.09845531,
          -71.09845531,
          -71.09845531,
          -71.08076738,
          -71.08771531,
          -71.09893987,
          -71.09893987,
          -71.08008791,
          -71.09551192,
          -71.07560042,
          -71.07035467,
          -71.07035467,
          -71.06984240000001,
          -71.07455503,
          -71.0844553,
          -71.07891773,
          -71.08076738,
          -71.08152167,
          -71.08174185,
          -71.08174185,
          -71.08174185,
          -71.08174185,
          -71.08174185,
          -71.08174185,
          -71.07996709999998,
          -71.08388901,
          -71.08388901,
          -71.0774931,
          -71.07572281,
          -71.08540752,
          -71.08076738
         ],
         "marker": {
          "color": "#92c0d3",
          "symbol": "cross"
         },
         "mode": "markers",
         "name": "South End",
         "showlegend": true,
         "type": "scattergeo"
        },
        {
         "geo": "geo",
         "hovertemplate": "NAME=Mattapan<br>LAT=%{lat}<br>LONG=%{lon}<extra></extra>",
         "lat": [
          42.29755695,
          42.27796370000001,
          42.27796370000001,
          42.27796370000001,
          42.27796370000001,
          42.28881222,
          42.28696997,
          42.27855984,
          42.28965721,
          42.29017432,
          42.29017432,
          42.28079658,
          42.28079658,
          42.28079658,
          42.28079658,
          42.28079658,
          42.28079658,
          42.28048456,
          42.27986526,
          42.27986526,
          42.27986526,
          42.28378654,
          42.29630559,
          42.29630559,
          42.2729449,
          42.28028398,
          42.28621457,
          42.28621457,
          42.27855984,
          42.29384269,
          42.29041538,
          42.29755695,
          42.29040923,
          42.28855818,
          42.27693086,
          42.27639356,
          42.28956988,
          42.28956988,
          42.27373936,
          42.28968115,
          42.3019742,
          42.29686162,
          42.28482577,
          42.27374058,
          42.29926303,
          42.27451263,
          42.30006791,
          42.30132851,
          42.29091867,
          42.29091867,
          42.29091867,
          42.29091867,
          42.29091867,
          42.28265604,
          42.29779501,
          42.27193751,
          42.27193751,
          42.27193751,
          42.28154388,
          42.28154388,
          42.27130225,
          42.28465991,
          42.27759869,
          42.28810362,
          42.27807456,
          42.29467186,
          42.30225172,
          42.30225172,
          42.27913841,
          42.27913841,
          42.27913841,
          42.27913841,
          42.28374569,
          42.29955614,
          42.29490954,
          42.27683754,
          42.27791465,
          42.27065695,
          42.29000873,
          42.27818669,
          42.26817397,
          42.27133005,
          42.27133005,
          42.28987906,
          42.2947672,
          42.2947672,
          42.28104853,
          42.29540175,
          42.2832657,
          42.28482577,
          42.28485608,
          42.29474312,
          42.27412409,
          42.28282878,
          42.28184113,
          42.28115946,
          42.28115946,
          42.28115946,
          42.28115946,
          42.28115946,
          42.28115946,
          42.29041466,
          42.28952852,
          42.29041538,
          42.28881222,
          42.29528206,
          42.27433629,
          42.29918970000001,
          42.27298661,
          42.29415023,
          42.26985916,
          42.2960628,
          42.2960628,
          42.2960628,
          42.2960628,
          42.28574986,
          42.28145538,
          42.28265604,
          42.27783207,
          42.27607035,
          42.27607035,
          42.28079658,
          42.28574986,
          42.27763124,
          42.29926303,
          42.29091867,
          42.29091867,
          42.28009279,
          42.26984836,
          42.27374058,
          42.298695,
          42.29673351,
          42.29673351,
          42.2960628,
          42.30355748,
          42.30355748,
          42.30355748,
          42.30355748,
          42.27341661,
          42.27683754,
          42.28264842,
          42.28631299,
          42.2819874,
          42.29244178,
          42.29244178,
          42.29540175,
          42.30066139,
          42.30066139,
          42.29520338,
          42.29415023,
          42.29415023,
          42.28336878,
          42.28336878,
          42.28336878,
          42.27373936,
          42.30132851,
          42.28469164,
          42.28956988,
          42.28405588,
          42.2900467,
          42.29490954,
          42.28187061,
          42.3051015,
          42.27718001,
          42.27665388,
          42.28374593,
          42.29572232,
          42.28265604,
          42.28414025,
          42.28414025,
          42.28414025,
          42.28414025,
          42.28414025,
          42.28414025,
          42.27404039,
          42.27718001,
          42.28746609,
          42.28804798,
          42.28804798,
          42.28804798,
          42.28804798,
          42.28987906,
          42.28987906,
          42.29660463,
          42.2868893,
          42.2868893,
          42.26857609,
          42.29086554,
          42.27934055,
          42.30438536,
          42.28956988,
          42.27443147,
          42.28106002,
          42.29368748,
          42.29368748,
          42.28693437,
          42.29098335
         ],
         "legendgroup": "Mattapan",
         "lon": [
          -71.08182045,
          -71.09246318,
          -71.09246318,
          -71.09246318,
          -71.09246318,
          -71.08513152,
          -71.07210789,
          -71.09199697,
          -71.07728118,
          -71.08808525,
          -71.08808525,
          -71.09039724,
          -71.09039724,
          -71.09039724,
          -71.09039724,
          -71.09039724,
          -71.09039724,
          -71.09256731,
          -71.08798275,
          -71.08798275,
          -71.08798275,
          -71.08715809999998,
          -71.08134086,
          -71.08134086,
          -71.09348933,
          -71.08235497,
          -71.07967740000002,
          -71.07967740000002,
          -71.09199697,
          -71.07609427,
          -71.07269542,
          -71.08182045,
          -71.07693574,
          -71.08839470000002,
          -71.08631706,
          -71.10175026,
          -71.08510501,
          -71.08510501,
          -71.10108024,
          -71.09212545,
          -71.08383388,
          -71.08584183,
          -71.09137369,
          -71.0757262,
          -71.07626513,
          -71.08004896,
          -71.08430796,
          -71.07870873,
          -71.08767813,
          -71.08767813,
          -71.08767813,
          -71.08767813,
          -71.08767813,
          -71.07374541,
          -71.07384157,
          -71.0921354,
          -71.0921354,
          -71.0921354,
          -71.07350542,
          -71.07350542,
          -71.07442362,
          -71.07839997,
          -71.09136804,
          -71.09153335,
          -71.08254983,
          -71.07684844,
          -71.07935688,
          -71.07935688,
          -71.0879709,
          -71.0879709,
          -71.0879709,
          -71.0879709,
          -71.09153583,
          -71.08073767,
          -71.09019249,
          -71.0952644,
          -71.09452937,
          -71.09377841,
          -71.07580876,
          -71.09047287,
          -71.09387677,
          -71.08299865,
          -71.08299865,
          -71.08948844,
          -71.08380506,
          -71.08380506,
          -71.0720644,
          -71.08237834,
          -71.09168904,
          -71.09137369,
          -71.09365749999998,
          -71.08503786,
          -71.07775467,
          -71.0918249,
          -71.09871709,
          -71.07911125,
          -71.07911125,
          -71.07911125,
          -71.07911125,
          -71.07911125,
          -71.07911125,
          -71.08643312,
          -71.08851422,
          -71.07269542,
          -71.08513152,
          -71.07957414,
          -71.09369943,
          -71.08150445,
          -71.089214,
          -71.08175047,
          -71.09346353,
          -71.08664795,
          -71.08664795,
          -71.08664795,
          -71.08664795,
          -71.09215334,
          -71.08351029,
          -71.07374541,
          -71.09355491,
          -71.0896364,
          -71.0896364,
          -71.09039724,
          -71.09215334,
          -71.09671825,
          -71.07626513,
          -71.08767813,
          -71.08767813,
          -71.0800541,
          -71.09532394,
          -71.0757262,
          -71.07555206,
          -71.07618648,
          -71.07618648,
          -71.08664795,
          -71.08311604,
          -71.08311604,
          -71.08311604,
          -71.08311604,
          -71.07517409,
          -71.0952644,
          -71.07887885,
          -71.09218412,
          -71.09623655,
          -71.07320696,
          -71.07320696,
          -71.08237834,
          -71.08328208,
          -71.08328208,
          -71.09271640000001,
          -71.08175047,
          -71.08175047,
          -71.08038038,
          -71.08038038,
          -71.08038038,
          -71.10108024,
          -71.07870873,
          -71.09621548,
          -71.08510501,
          -71.09045322,
          -71.07330004,
          -71.09019249,
          -71.08751152,
          -71.08083089,
          -71.09870916,
          -71.09121606,
          -71.08938232,
          -71.07505157,
          -71.07374541,
          -71.09305138,
          -71.09305138,
          -71.09305138,
          -71.09305138,
          -71.09305138,
          -71.09305138,
          -71.07630093,
          -71.09870916,
          -71.07231418,
          -71.07766654,
          -71.07766654,
          -71.07766654,
          -71.07766654,
          -71.08948844,
          -71.08948844,
          -71.07692684,
          -71.09222991,
          -71.09222991,
          -71.09574826,
          -71.07222226,
          -71.09130505,
          -71.07994459,
          -71.08510501,
          -71.08131004,
          -71.08420647,
          -71.07692422,
          -71.07692422,
          -71.08894057,
          -71.08912013
         ],
         "marker": {
          "color": "#e06666",
          "symbol": "circle"
         },
         "mode": "markers",
         "name": "Mattapan",
         "showlegend": true,
         "type": "scattergeo"
        },
        {
         "geo": "geo",
         "hovertemplate": "NAME=Brighton<br>LAT=%{lat}<br>LONG=%{lon}<extra></extra>",
         "lat": [
          42.35283155,
          42.36227866,
          42.35540113,
          42.35486542,
          42.35555336,
          42.35752408,
          42.35551241,
          42.351987,
          42.351987,
          42.35005321
         ],
         "legendgroup": "Brighton",
         "lon": [
          -71.13114273,
          -71.13742722,
          -71.13090649,
          -71.13259322,
          -71.15274721,
          -71.13077384,
          -71.13653726,
          -71.16510001,
          -71.16510001,
          -71.14799736
         ],
         "marker": {
          "color": "#92c0d3",
          "symbol": "diamond"
         },
         "mode": "markers",
         "name": "Brighton",
         "showlegend": true,
         "type": "scattergeo"
        },
        {
         "geo": "geo",
         "hovertemplate": "NAME=East Boston<br>LAT=%{lat}<br>LONG=%{lon}<extra></extra>",
         "lat": [
          42.37256958,
          42.3714106,
          42.38257493,
          42.37056795,
          42.38492212,
          42.38196242,
          42.36671964,
          42.36671964,
          42.36671964,
          42.36671964,
          42.38069279,
          42.38229155,
          42.39193303,
          42.38229155
         ],
         "legendgroup": "East Boston",
         "lon": [
          -71.04017612,
          -71.04245069,
          -71.03026362,
          -71.04360194,
          -71.0174635,
          -71.0318446,
          -71.03908712,
          -71.03908712,
          -71.03908712,
          -71.03908712,
          -71.02954916,
          -71.04036424,
          -70.99536185,
          -71.04036424
         ],
         "marker": {
          "color": "#92c0d3",
          "symbol": "square"
         },
         "mode": "markers",
         "name": "East Boston",
         "showlegend": true,
         "type": "scattergeo"
        },
        {
         "geo": "geo",
         "hovertemplate": "NAME=West Roxbury<br>LAT=%{lat}<br>LONG=%{lon}<extra></extra>",
         "lat": [
          42.27625767,
          42.27625767,
          42.28474254,
          42.27579337,
          42.27579337,
          42.29396688,
          42.2917221,
          42.28112225,
          42.29255618,
          42.29255618,
          42.29068631,
          42.27884574,
          42.27326387
         ],
         "legendgroup": "West Roxbury",
         "lon": [
          -71.13939536,
          -71.13939536,
          -71.12953347,
          -71.167152,
          -71.167152,
          -71.11893964,
          -71.1196546,
          -71.1338382,
          -71.11974225,
          -71.11974225,
          -71.12358911,
          -71.13310206,
          -71.14401468
         ],
         "marker": {
          "color": "#92c0d3",
          "symbol": "x"
         },
         "mode": "markers",
         "name": "West Roxbury",
         "showlegend": true,
         "type": "scattergeo"
        },
        {
         "geo": "geo",
         "hovertemplate": "NAME=South Boston<br>LAT=%{lat}<br>LONG=%{lon}<extra></extra>",
         "lat": [
          42.32557398,
          42.32583998,
          42.32583998,
          42.33670628,
          42.33670628,
          42.32614559,
          42.32614559,
          42.32648547,
          42.32583998,
          42.33034412,
          42.33574249,
          42.32756337,
          42.32756337,
          42.32058475,
          42.32058475,
          42.32692112,
          42.33168201,
          42.33941146,
          42.33723127,
          42.33861270000001,
          42.33214285,
          42.32335251,
          42.33081031,
          42.33233682,
          42.3292719,
          42.3379028,
          42.33971096,
          42.33139985,
          42.339621
         ],
         "legendgroup": "South Boston",
         "lon": [
          -71.0524813,
          -71.05463516,
          -71.05463516,
          -71.05330809,
          -71.05330809,
          -71.05349144,
          -71.05349144,
          -71.05487817,
          -71.05463516,
          -71.05695721,
          -71.05309125,
          -71.06751259,
          -71.06751259,
          -71.04470305,
          -71.04470305,
          -71.05841861,
          -71.06798742,
          -71.05371462,
          -71.05539138,
          -71.05413593,
          -71.05121359,
          -71.05241954,
          -71.07024806,
          -71.07129642,
          -71.05545793,
          -71.05611348,
          -71.05321163,
          -71.05128027,
          -71.05533044
         ],
         "marker": {
          "color": "#92c0d3",
          "symbol": "cross"
         },
         "mode": "markers",
         "name": "South Boston",
         "showlegend": true,
         "type": "scattergeo"
        },
        {
         "geo": "geo",
         "hovertemplate": "NAME=Jamaica Plain<br>LAT=%{lat}<br>LONG=%{lon}<extra></extra>",
         "lat": [
          42.32283759,
          42.32283759,
          42.32469169,
          42.32246336,
          42.32246336,
          42.32246336,
          42.32246336,
          42.31832089,
          42.32561013,
          42.32561013,
          42.31832089,
          42.31832089,
          42.32624204,
          42.31981996,
          42.31488579,
          42.32469443,
          42.31548515,
          42.32283759,
          42.32547536,
          42.32015414,
          42.31433402,
          42.32547536,
          42.31591905,
          42.31534411,
          42.31550475,
          42.31550475,
          42.31538436,
          42.31538436,
          42.32624204,
          42.32469443,
          42.31127465,
          42.31888243,
          42.32469443,
          42.32469443,
          42.32563183,
          42.32563183,
          42.31854554,
          42.32624204,
          42.32610077,
          42.31485546,
          42.30536762,
          42.31451479,
          42.31591905,
          42.32290252,
          42.32638832,
          42.31609763,
          42.3204964,
          42.32483301,
          42.30512949,
          42.31284459,
          42.32610077,
          42.32214915,
          42.31529421,
          42.31667114,
          42.31529421,
          42.32283759,
          42.32283759,
          42.31668068,
          42.32352724,
          42.3031399,
          42.31591905
         ],
         "legendgroup": "Jamaica Plain",
         "lon": [
          -71.10096723,
          -71.10096723,
          -71.10618924,
          -71.10757917,
          -71.10757917,
          -71.10757917,
          -71.10757917,
          -71.09934809999999,
          -71.10449956,
          -71.10449956,
          -71.09934809999999,
          -71.09934809999999,
          -71.10317575,
          -71.1042968,
          -71.09720699,
          -71.10087902,
          -71.10615496,
          -71.10096723,
          -71.10253482,
          -71.11119859,
          -71.09791405,
          -71.10253482,
          -71.09691295,
          -71.09584709,
          -71.10051479,
          -71.10051479,
          -71.09870021,
          -71.09870021,
          -71.10317575,
          -71.10087902,
          -71.11448366,
          -71.09929423,
          -71.10087902,
          -71.10087902,
          -71.10845359,
          -71.10845359,
          -71.098663,
          -71.10317575,
          -71.10433335,
          -71.09922409999999,
          -71.11571500000002,
          -71.0947082,
          -71.09691295,
          -71.10220402,
          -71.10181751,
          -71.09524853,
          -71.10281106,
          -71.10164757,
          -71.11461873,
          -71.09676806,
          -71.10433335,
          -71.10091019,
          -71.09486034,
          -71.09743705,
          -71.09486034,
          -71.10096723,
          -71.10096723,
          -71.09638886,
          -71.10222946,
          -71.11735145,
          -71.09691295
         ],
         "marker": {
          "color": "#ffd966",
          "symbol": "circle"
         },
         "mode": "markers",
         "name": "Jamaica Plain",
         "showlegend": true,
         "type": "scattergeo"
        },
        {
         "geo": "geo",
         "hovertemplate": "NAME=Charlestown<br>LAT=%{lat}<br>LONG=%{lon}<extra></extra>",
         "lat": [
          42.37847466,
          42.37808452,
          42.37736388,
          42.37808452
         ],
         "legendgroup": "Charlestown",
         "lon": [
          -71.06111453,
          -71.05784115,
          -71.05791376,
          -71.05784115
         ],
         "marker": {
          "color": "#92c0d3",
          "symbol": "diamond"
         },
         "mode": "markers",
         "name": "Charlestown",
         "showlegend": true,
         "type": "scattergeo"
        }
       ],
       "layout": {
        "geo": {
         "center": {},
         "domain": {
          "x": [
           0,
           1
          ],
          "y": [
           0,
           1
          ]
         }
        },
        "height": 500,
        "legend": {
         "title": {
          "text": "NAME"
         },
         "tracegroupgap": 0
        },
        "template": {
         "data": {
          "bar": [
           {
            "error_x": {
             "color": "#2a3f5f"
            },
            "error_y": {
             "color": "#2a3f5f"
            },
            "marker": {
             "line": {
              "color": "#E5ECF6",
              "width": 0.5
             },
             "pattern": {
              "fillmode": "overlay",
              "size": 10,
              "solidity": 0.2
             }
            },
            "type": "bar"
           }
          ],
          "barpolar": [
           {
            "marker": {
             "line": {
              "color": "#E5ECF6",
              "width": 0.5
             },
             "pattern": {
              "fillmode": "overlay",
              "size": 10,
              "solidity": 0.2
             }
            },
            "type": "barpolar"
           }
          ],
          "carpet": [
           {
            "aaxis": {
             "endlinecolor": "#2a3f5f",
             "gridcolor": "white",
             "linecolor": "white",
             "minorgridcolor": "white",
             "startlinecolor": "#2a3f5f"
            },
            "baxis": {
             "endlinecolor": "#2a3f5f",
             "gridcolor": "white",
             "linecolor": "white",
             "minorgridcolor": "white",
             "startlinecolor": "#2a3f5f"
            },
            "type": "carpet"
           }
          ],
          "choropleth": [
           {
            "colorbar": {
             "outlinewidth": 0,
             "ticks": ""
            },
            "type": "choropleth"
           }
          ],
          "contour": [
           {
            "colorbar": {
             "outlinewidth": 0,
             "ticks": ""
            },
            "colorscale": [
             [
              0,
              "#0d0887"
             ],
             [
              0.1111111111111111,
              "#46039f"
             ],
             [
              0.2222222222222222,
              "#7201a8"
             ],
             [
              0.3333333333333333,
              "#9c179e"
             ],
             [
              0.4444444444444444,
              "#bd3786"
             ],
             [
              0.5555555555555556,
              "#d8576b"
             ],
             [
              0.6666666666666666,
              "#ed7953"
             ],
             [
              0.7777777777777778,
              "#fb9f3a"
             ],
             [
              0.8888888888888888,
              "#fdca26"
             ],
             [
              1,
              "#f0f921"
             ]
            ],
            "type": "contour"
           }
          ],
          "contourcarpet": [
           {
            "colorbar": {
             "outlinewidth": 0,
             "ticks": ""
            },
            "type": "contourcarpet"
           }
          ],
          "heatmap": [
           {
            "colorbar": {
             "outlinewidth": 0,
             "ticks": ""
            },
            "colorscale": [
             [
              0,
              "#0d0887"
             ],
             [
              0.1111111111111111,
              "#46039f"
             ],
             [
              0.2222222222222222,
              "#7201a8"
             ],
             [
              0.3333333333333333,
              "#9c179e"
             ],
             [
              0.4444444444444444,
              "#bd3786"
             ],
             [
              0.5555555555555556,
              "#d8576b"
             ],
             [
              0.6666666666666666,
              "#ed7953"
             ],
             [
              0.7777777777777778,
              "#fb9f3a"
             ],
             [
              0.8888888888888888,
              "#fdca26"
             ],
             [
              1,
              "#f0f921"
             ]
            ],
            "type": "heatmap"
           }
          ],
          "heatmapgl": [
           {
            "colorbar": {
             "outlinewidth": 0,
             "ticks": ""
            },
            "colorscale": [
             [
              0,
              "#0d0887"
             ],
             [
              0.1111111111111111,
              "#46039f"
             ],
             [
              0.2222222222222222,
              "#7201a8"
             ],
             [
              0.3333333333333333,
              "#9c179e"
             ],
             [
              0.4444444444444444,
              "#bd3786"
             ],
             [
              0.5555555555555556,
              "#d8576b"
             ],
             [
              0.6666666666666666,
              "#ed7953"
             ],
             [
              0.7777777777777778,
              "#fb9f3a"
             ],
             [
              0.8888888888888888,
              "#fdca26"
             ],
             [
              1,
              "#f0f921"
             ]
            ],
            "type": "heatmapgl"
           }
          ],
          "histogram": [
           {
            "marker": {
             "pattern": {
              "fillmode": "overlay",
              "size": 10,
              "solidity": 0.2
             }
            },
            "type": "histogram"
           }
          ],
          "histogram2d": [
           {
            "colorbar": {
             "outlinewidth": 0,
             "ticks": ""
            },
            "colorscale": [
             [
              0,
              "#0d0887"
             ],
             [
              0.1111111111111111,
              "#46039f"
             ],
             [
              0.2222222222222222,
              "#7201a8"
             ],
             [
              0.3333333333333333,
              "#9c179e"
             ],
             [
              0.4444444444444444,
              "#bd3786"
             ],
             [
              0.5555555555555556,
              "#d8576b"
             ],
             [
              0.6666666666666666,
              "#ed7953"
             ],
             [
              0.7777777777777778,
              "#fb9f3a"
             ],
             [
              0.8888888888888888,
              "#fdca26"
             ],
             [
              1,
              "#f0f921"
             ]
            ],
            "type": "histogram2d"
           }
          ],
          "histogram2dcontour": [
           {
            "colorbar": {
             "outlinewidth": 0,
             "ticks": ""
            },
            "colorscale": [
             [
              0,
              "#0d0887"
             ],
             [
              0.1111111111111111,
              "#46039f"
             ],
             [
              0.2222222222222222,
              "#7201a8"
             ],
             [
              0.3333333333333333,
              "#9c179e"
             ],
             [
              0.4444444444444444,
              "#bd3786"
             ],
             [
              0.5555555555555556,
              "#d8576b"
             ],
             [
              0.6666666666666666,
              "#ed7953"
             ],
             [
              0.7777777777777778,
              "#fb9f3a"
             ],
             [
              0.8888888888888888,
              "#fdca26"
             ],
             [
              1,
              "#f0f921"
             ]
            ],
            "type": "histogram2dcontour"
           }
          ],
          "mesh3d": [
           {
            "colorbar": {
             "outlinewidth": 0,
             "ticks": ""
            },
            "type": "mesh3d"
           }
          ],
          "parcoords": [
           {
            "line": {
             "colorbar": {
              "outlinewidth": 0,
              "ticks": ""
             }
            },
            "type": "parcoords"
           }
          ],
          "pie": [
           {
            "automargin": true,
            "type": "pie"
           }
          ],
          "scatter": [
           {
            "marker": {
             "colorbar": {
              "outlinewidth": 0,
              "ticks": ""
             }
            },
            "type": "scatter"
           }
          ],
          "scatter3d": [
           {
            "line": {
             "colorbar": {
              "outlinewidth": 0,
              "ticks": ""
             }
            },
            "marker": {
             "colorbar": {
              "outlinewidth": 0,
              "ticks": ""
             }
            },
            "type": "scatter3d"
           }
          ],
          "scattercarpet": [
           {
            "marker": {
             "colorbar": {
              "outlinewidth": 0,
              "ticks": ""
             }
            },
            "type": "scattercarpet"
           }
          ],
          "scattergeo": [
           {
            "marker": {
             "colorbar": {
              "outlinewidth": 0,
              "ticks": ""
             }
            },
            "type": "scattergeo"
           }
          ],
          "scattergl": [
           {
            "marker": {
             "colorbar": {
              "outlinewidth": 0,
              "ticks": ""
             }
            },
            "type": "scattergl"
           }
          ],
          "scattermapbox": [
           {
            "marker": {
             "colorbar": {
              "outlinewidth": 0,
              "ticks": ""
             }
            },
            "type": "scattermapbox"
           }
          ],
          "scatterpolar": [
           {
            "marker": {
             "colorbar": {
              "outlinewidth": 0,
              "ticks": ""
             }
            },
            "type": "scatterpolar"
           }
          ],
          "scatterpolargl": [
           {
            "marker": {
             "colorbar": {
              "outlinewidth": 0,
              "ticks": ""
             }
            },
            "type": "scatterpolargl"
           }
          ],
          "scatterternary": [
           {
            "marker": {
             "colorbar": {
              "outlinewidth": 0,
              "ticks": ""
             }
            },
            "type": "scatterternary"
           }
          ],
          "surface": [
           {
            "colorbar": {
             "outlinewidth": 0,
             "ticks": ""
            },
            "colorscale": [
             [
              0,
              "#0d0887"
             ],
             [
              0.1111111111111111,
              "#46039f"
             ],
             [
              0.2222222222222222,
              "#7201a8"
             ],
             [
              0.3333333333333333,
              "#9c179e"
             ],
             [
              0.4444444444444444,
              "#bd3786"
             ],
             [
              0.5555555555555556,
              "#d8576b"
             ],
             [
              0.6666666666666666,
              "#ed7953"
             ],
             [
              0.7777777777777778,
              "#fb9f3a"
             ],
             [
              0.8888888888888888,
              "#fdca26"
             ],
             [
              1,
              "#f0f921"
             ]
            ],
            "type": "surface"
           }
          ],
          "table": [
           {
            "cells": {
             "fill": {
              "color": "#EBF0F8"
             },
             "line": {
              "color": "white"
             }
            },
            "header": {
             "fill": {
              "color": "#C8D4E3"
             },
             "line": {
              "color": "white"
             }
            },
            "type": "table"
           }
          ]
         },
         "layout": {
          "annotationdefaults": {
           "arrowcolor": "#2a3f5f",
           "arrowhead": 0,
           "arrowwidth": 1
          },
          "autotypenumbers": "strict",
          "coloraxis": {
           "colorbar": {
            "outlinewidth": 0,
            "ticks": ""
           }
          },
          "colorscale": {
           "diverging": [
            [
             0,
             "#8e0152"
            ],
            [
             0.1,
             "#c51b7d"
            ],
            [
             0.2,
             "#de77ae"
            ],
            [
             0.3,
             "#f1b6da"
            ],
            [
             0.4,
             "#fde0ef"
            ],
            [
             0.5,
             "#f7f7f7"
            ],
            [
             0.6,
             "#e6f5d0"
            ],
            [
             0.7,
             "#b8e186"
            ],
            [
             0.8,
             "#7fbc41"
            ],
            [
             0.9,
             "#4d9221"
            ],
            [
             1,
             "#276419"
            ]
           ],
           "sequential": [
            [
             0,
             "#0d0887"
            ],
            [
             0.1111111111111111,
             "#46039f"
            ],
            [
             0.2222222222222222,
             "#7201a8"
            ],
            [
             0.3333333333333333,
             "#9c179e"
            ],
            [
             0.4444444444444444,
             "#bd3786"
            ],
            [
             0.5555555555555556,
             "#d8576b"
            ],
            [
             0.6666666666666666,
             "#ed7953"
            ],
            [
             0.7777777777777778,
             "#fb9f3a"
            ],
            [
             0.8888888888888888,
             "#fdca26"
            ],
            [
             1,
             "#f0f921"
            ]
           ],
           "sequentialminus": [
            [
             0,
             "#0d0887"
            ],
            [
             0.1111111111111111,
             "#46039f"
            ],
            [
             0.2222222222222222,
             "#7201a8"
            ],
            [
             0.3333333333333333,
             "#9c179e"
            ],
            [
             0.4444444444444444,
             "#bd3786"
            ],
            [
             0.5555555555555556,
             "#d8576b"
            ],
            [
             0.6666666666666666,
             "#ed7953"
            ],
            [
             0.7777777777777778,
             "#fb9f3a"
            ],
            [
             0.8888888888888888,
             "#fdca26"
            ],
            [
             1,
             "#f0f921"
            ]
           ]
          },
          "colorway": [
           "#636efa",
           "#EF553B",
           "#00cc96",
           "#ab63fa",
           "#FFA15A",
           "#19d3f3",
           "#FF6692",
           "#B6E880",
           "#FF97FF",
           "#FECB52"
          ],
          "font": {
           "color": "#2a3f5f"
          },
          "geo": {
           "bgcolor": "white",
           "lakecolor": "white",
           "landcolor": "#E5ECF6",
           "showlakes": true,
           "showland": true,
           "subunitcolor": "white"
          },
          "hoverlabel": {
           "align": "left"
          },
          "hovermode": "closest",
          "mapbox": {
           "style": "light"
          },
          "paper_bgcolor": "white",
          "plot_bgcolor": "#E5ECF6",
          "polar": {
           "angularaxis": {
            "gridcolor": "white",
            "linecolor": "white",
            "ticks": ""
           },
           "bgcolor": "#E5ECF6",
           "radialaxis": {
            "gridcolor": "white",
            "linecolor": "white",
            "ticks": ""
           }
          },
          "scene": {
           "xaxis": {
            "backgroundcolor": "#E5ECF6",
            "gridcolor": "white",
            "gridwidth": 2,
            "linecolor": "white",
            "showbackground": true,
            "ticks": "",
            "zerolinecolor": "white"
           },
           "yaxis": {
            "backgroundcolor": "#E5ECF6",
            "gridcolor": "white",
            "gridwidth": 2,
            "linecolor": "white",
            "showbackground": true,
            "ticks": "",
            "zerolinecolor": "white"
           },
           "zaxis": {
            "backgroundcolor": "#E5ECF6",
            "gridcolor": "white",
            "gridwidth": 2,
            "linecolor": "white",
            "showbackground": true,
            "ticks": "",
            "zerolinecolor": "white"
           }
          },
          "shapedefaults": {
           "line": {
            "color": "#2a3f5f"
           }
          },
          "ternary": {
           "aaxis": {
            "gridcolor": "white",
            "linecolor": "white",
            "ticks": ""
           },
           "baxis": {
            "gridcolor": "white",
            "linecolor": "white",
            "ticks": ""
           },
           "bgcolor": "#E5ECF6",
           "caxis": {
            "gridcolor": "white",
            "linecolor": "white",
            "ticks": ""
           }
          },
          "title": {
           "x": 0.05
          },
          "xaxis": {
           "automargin": true,
           "gridcolor": "white",
           "linecolor": "white",
           "ticks": "",
           "title": {
            "standoff": 15
           },
           "zerolinecolor": "white",
           "zerolinewidth": 2
          },
          "yaxis": {
           "automargin": true,
           "gridcolor": "white",
           "linecolor": "white",
           "ticks": "",
           "title": {
            "standoff": 15
           },
           "zerolinecolor": "white",
           "zerolinewidth": 2
          }
         }
        },
        "title": {
         "text": "[Shootings in cases of Violence and Harrassment per District]"
        },
        "width": 500
       }
      },
      "text/html": [
       "<div>                            <div id=\"116241fb-9623-4c26-9243-56b60d24bd50\" class=\"plotly-graph-div\" style=\"height:500px; width:500px;\"></div>            <script type=\"text/javascript\">                require([\"plotly\"], function(Plotly) {                    window.PLOTLYENV=window.PLOTLYENV || {};                                    if (document.getElementById(\"116241fb-9623-4c26-9243-56b60d24bd50\")) {                    Plotly.newPlot(                        \"116241fb-9623-4c26-9243-56b60d24bd50\",                        [{\"geo\":\"geo\",\"hovertemplate\":\"NAME=Roxbury<br>LAT=%{lat}<br>LONG=%{lon}<extra></extra>\",\"lat\":[42.32365518,42.32127341,42.33506218,42.33506218,42.33506218,42.33380529,42.32104169,42.33358389,42.30733393,42.33087008,42.31676691,42.3346705,42.32734041,42.3220384,42.31049939,42.33421,42.31632131,42.32435506,42.31195475,42.31195475,42.31195475,42.31195475,42.31195475,42.31195475,42.31195475,42.31195475,42.32863172,42.32019753,42.33297865,42.33506218,42.32082221,42.32082221,42.32082221,42.31531614,42.30505376,42.31127726,42.31127726,42.30956305,42.3208382,42.33371742,42.33371742,42.32849143,42.32849143,42.30649283,42.30649283,42.30812619,42.32095696,42.31705618,42.31996758,42.31915702,42.31915702,42.31512218,42.31512218,42.31512218,42.31512218,42.33606304,42.32696802,42.32696802,42.32696802,42.32696802,42.31632131,42.31780762,42.33358389,42.31161123,42.31161123,42.31161123,42.32095643,42.32095643,42.33110131,42.33110131,42.31996758,42.31996758,42.31679542,42.32874077,42.31038717,42.3072423,42.31498564,42.33606304,42.31820434,42.31820434,42.33363658,42.33363658,42.3250287,42.31086842,42.328597,42.30664081,42.31921209,42.31996824,42.30664081,42.32882991,42.32882991,42.33506218,42.32300514,42.32909775,42.3162513,42.3162513,42.31283412,42.323561100000006,42.31759494,42.334912,42.32105956,42.31814836,42.31814836,42.31814836,42.31814836,42.31814836,42.31814836,42.31803027,42.3219697,42.32672962,42.31190343,42.31633855,42.31996758,42.31996758,42.31996758,42.32150685,42.3291465,42.33332888,42.33332888,42.30775024,42.30775024,42.30775024,42.30775024,42.31799862,42.30812619,42.30938437,42.30938437,42.30878855,42.333382,42.30976163,42.32136484,42.32019753,42.32019753,42.30812619,42.31404391,42.31788029,42.31788029,42.32872796,42.33367922,42.33367922,42.33367922,42.33367922,42.30956305,42.3252158,42.32317285,42.3126054,42.31594507,42.33511654,42.32059748,42.33506218,42.33506218,42.3285094,42.33627151,42.33178186,42.33178186,42.33178186,42.31089986,42.31579265,42.3290038,42.31514179,42.31993148,42.31993148,42.33506218,42.32692266,42.333382,42.32832264,42.31424838,42.322573,42.30799051,42.32525137,42.32104169,42.3208382,42.3208382,42.32320895,42.32221645,42.32734041,42.32734041,42.30876959,42.30784206,42.32022882,42.32022882,42.32282213,42.3263576,42.33308097,42.333382,42.30846634,42.30846634,42.30846634,42.30846634,42.31242132,42.31582829,42.32950632,42.32950632,42.32950632,42.33506218,42.32251511,42.31186553,42.31017838,42.31017838,42.31801549,42.33506218,42.31632131,42.32696928,42.32667212,42.32893451,42.32272473,42.32272473,42.30756687,42.30756687,42.31195475,42.33445761,42.31635508,42.3219484,42.32866284,42.31252546,42.31283412,42.33036581,42.33036581,42.33407232,42.32200511,42.32991249,42.32866284,42.32866284,42.32755105,42.32082221,42.31803027,42.31803027,42.32547404,42.32872589,42.32872589,42.32872589,42.31610842,42.30391522,42.32104169,42.326372,42.3232211,42.3146052,42.3146052,42.3221881,42.31781138,42.31803027,42.30455372,42.33248759,42.31894677,42.30703587,42.30703587,42.32104169,42.31568920000001,42.32579408,42.33380238,42.31242132,42.31841535,42.31224327,42.31224327,42.31224327,42.31224327,42.31368925,42.31499803,42.30660388,42.31633855,42.31959298,42.32022882,42.3219484,42.3219484,42.3219484,42.3219484,42.3219484,42.3219484,42.3219484,42.3219484,42.31049939,42.31049939,42.31462973,42.32882991,42.31368925,42.31535276,42.33954199,42.30711484,42.3290038,42.3290038,42.32221645,42.32221645,42.32380776,42.32424069,42.32047753,42.31632131,42.31348708,42.31348708,42.30545103,42.30545103,42.33380238,42.31190459],\"legendgroup\":\"Roxbury\",\"lon\":[-71.0851821,-71.08287531,-71.09316781,-71.09316781,-71.09316781,-71.09377598,-71.07215291,-71.08554259,-71.0763704,-71.08909494,-71.07714054,-71.088934,-71.07945869,-71.07140396,-71.07733579,-71.104919,-71.0892305,-71.07440305,-71.07871912,-71.07871912,-71.07871912,-71.07871912,-71.07871912,-71.07871912,-71.07871912,-71.07871912,-71.08309899,-71.06641761,-71.08795759,-71.09316781,-71.09731506,-71.09731506,-71.09731506,-71.09071957,-71.08403633,-71.08909334,-71.08909334,-71.08990197,-71.09018598,-71.09665806,-71.09665806,-71.08121253,-71.08121253,-71.08180677,-71.08180677,-71.07692974,-71.09680448,-71.08652731,-71.08715022,-71.08601949999998,-71.08601949999998,-71.0825202,-71.0825202,-71.0825202,-71.0825202,-71.10782832,-71.08051941,-71.08051941,-71.08051941,-71.08051941,-71.0892305,-71.06684990000002,-71.08554259,-71.076256,-71.076256,-71.076256,-71.06992609999998,-71.06992609999998,-71.10870352,-71.10870352,-71.08715022,-71.08715022,-71.07964562,-71.08771559,-71.0805453,-71.08551704,-71.08194639,-71.10782832,-71.06657287,-71.06657287,-71.09841709,-71.09841709,-71.07341448,-71.07425854,-71.08274741,-71.08584976,-71.06615772,-71.08859562,-71.08584976,-71.08144379,-71.08144379,-71.09316781,-71.08081696,-71.07906694,-71.07289969,-71.07289969,-71.08974712,-71.07374226,-71.08970440000002,-71.088464,-71.07313291,-71.06708346,-71.06708346,-71.06708346,-71.06708346,-71.06708346,-71.06708346,-71.07787472,-71.07242529,-71.08570602,-71.09255937,-71.06879992,-71.08715022,-71.08715022,-71.08715022,-71.07076276,-71.0810989,-71.10659534,-71.10659534,-71.08273084,-71.08273084,-71.08273084,-71.08273084,-71.06729022,-71.07692974,-71.08262277,-71.08262277,-71.09055618,-71.08745421,-71.08386431,-71.07220670000002,-71.06641761,-71.06641761,-71.07692974,-71.07917986,-71.0862988,-71.0862988,-71.09108826,-71.09187755,-71.09187755,-71.09187755,-71.09187755,-71.08990197,-71.07492178,-71.08773656,-71.07624159,-71.09043142,-71.10767674,-71.06490117,-71.09316781,-71.09316781,-71.08043739,-71.09187628,-71.09718868,-71.09718868,-71.09718868,-71.08007661,-71.06693528,-71.07838214,-71.06704709,-71.06368978,-71.06368978,-71.09316781,-71.08313475,-71.08745421,-71.07861091,-71.07811402,-71.07357583,-71.08639196,-71.08459937,-71.07215291,-71.09018598,-71.09018598,-71.08432965,-71.08206723,-71.07945869,-71.07945869,-71.07460717,-71.08650939,-71.06307063,-71.06307063,-71.07984061,-71.07886301,-71.10165376,-71.08745421,-71.08327829999998,-71.08327829999998,-71.08327829999998,-71.08327829999998,-71.09154902,-71.09347096,-71.08398018,-71.08398018,-71.08398018,-71.09316781,-71.09080341,-71.07668603,-71.07651047,-71.07651047,-71.07391773,-71.09316781,-71.0892305,-71.09329249,-71.07977739,-71.0791325,-71.08877863,-71.08877863,-71.07608067,-71.07608067,-71.07871912,-71.088061,-71.06593853,-71.08138427,-71.08563401,-71.07389321,-71.08974712,-71.08539259,-71.08539259,-71.10792519,-71.07585885,-71.07875908,-71.08563401,-71.08563401,-71.0691618,-71.09731506,-71.07787472,-71.07787472,-71.08749972,-71.08382217,-71.08382217,-71.08382217,-71.07063541,-71.08510251,-71.07215291,-71.09971,-71.07197393,-71.07207475,-71.07207475,-71.09263314,-71.07759709999998,-71.07787472,-71.08295366,-71.08365801,-71.0745277,-71.08410227,-71.08410227,-71.07215291,-71.08951391,-71.08563758,-71.08880867,-71.09154902,-71.07602496,-71.07549901,-71.07549901,-71.07549901,-71.07549901,-71.0742708,-71.09194485,-71.08055038,-71.06879992,-71.062607,-71.06307063,-71.08138427,-71.08138427,-71.08138427,-71.08138427,-71.08138427,-71.08138427,-71.08138427,-71.08138427,-71.07733579,-71.07733579,-71.0926152,-71.08144379,-71.0742708,-71.07304299,-71.06940877,-71.08425151,-71.07838214,-71.07838214,-71.08206723,-71.08206723,-71.08915023,-71.07761917,-71.07273673,-71.0892305,-71.08460242,-71.08460242,-71.08057209,-71.08057209,-71.08880867,-71.09049521],\"marker\":{\"color\":\"#fa9731\",\"symbol\":\"circle\"},\"mode\":\"markers\",\"name\":\"Roxbury\",\"showlegend\":true,\"type\":\"scattergeo\"},{\"geo\":\"geo\",\"hovertemplate\":\"NAME=Dorchester<br>LAT=%{lat}<br>LONG=%{lon}<extra></extra>\",\"lat\":[42.29848866,42.30422029,42.2952182,42.2952182,42.30422176,42.28995318,42.29526287,42.31363409,42.30336787,42.30500848,42.30270433,42.30481467,42.31319382,42.31319382,42.30626521,42.30723714,42.30116123,42.30116123,42.29026471,42.29214062,42.30431938,42.30540715,42.29481426,42.30328747,42.29881968,42.2991807,42.30422176,42.30422176,42.29480297,42.28963220000001,42.3031123,42.31154172,42.29653192,42.2901783,42.2901783,42.2901783,42.30626521,42.30010597,42.30511791,42.30511791,42.31184601,42.30444352,42.30444352,42.31212341,42.31319382,42.31319382,42.28921036,42.29025219,42.30870401,42.31290014,42.314019,42.28724944,42.28724944,42.28908473,42.28908473,42.28466568,42.28466568,42.31424792,42.30028028,42.28581121,42.2991807,42.30338366,42.31509363,42.27905426,42.27905426,42.30839354,42.30839354,42.30536545,42.2991807,42.30443502,42.29481426,42.31853245,42.29042439,42.30444352,42.31396145,42.3152619,42.28944478,42.28944478,42.30168622,42.30168622,42.30385443,42.2972764,42.29019621,42.2984758,42.2985085,42.31363409,42.31363409,42.3134571,42.30724276,42.2991807,42.2991807,42.28519774,42.29979065,42.30183841,42.30183841,42.28250165,42.30870401,42.31326923,42.31326923,42.30080999,42.31475867,42.30116811,42.33367922,42.33367922,42.31106545,42.31250816,42.31250816,42.31250816,42.29766417,42.28262406,42.31363409,42.30536545,42.30209443,42.30618185,42.30584423,42.29524857,42.3036967,42.3036967,42.28866198,42.30175049,42.30027166,42.29990887,42.29990887,42.29798785,42.29290563,42.29307537,42.28164735,42.30947016,42.31526714,42.31526714,42.29328831,42.30234412,42.30234412,42.31600283,42.30155019,42.31959298,42.29685211,42.30859659,42.30540715,42.30540715,42.30540715,42.29808992,42.29990887,42.29506405,42.30553202,42.30910324,42.30910324,42.30910324,42.30910324,42.30371229,42.30022551,42.29167441,42.29167441,42.30555042,42.31250816,42.31250816,42.31250816,42.31250816,42.30417845],\"legendgroup\":\"Dorchester\",\"lon\":[-71.06313294,-71.07840374,-71.06068709,-71.06068709,-71.07918459,-71.06076101,-71.07207439,-71.06778025,-71.06827221,-71.06606441,-71.0734249,-71.07218295,-71.06500833,-71.06500833,-71.06864556,-71.07623393,-71.07284279,-71.07284279,-71.06599003,-71.0520224,-71.06962209,-71.06547135,-71.07200871,-71.06363409,-71.06570084,-71.06429139,-71.07918459,-71.07918459,-71.06175129,-71.06490373,-71.07707509999999,-71.06122543,-71.07125916,-71.05937392,-71.05937392,-71.05937392,-71.06864556,-71.0710271,-71.08019088,-71.08019088,-71.06684447,-71.06778638,-71.06778638,-71.06820729,-71.06500833,-71.06500833,-71.06646501,-71.06304942,-71.06844484,-71.06131063,-71.06547605,-71.07076867,-71.07076867,-71.07122181,-71.07122181,-71.06602188,-71.06602188,-71.06560782,-71.06015261,-71.07115483,-71.06429139,-71.07574685,-71.05494154,-71.05337772,-71.05337772,-71.06473124,-71.06473124,-71.06812632,-71.06429139,-71.06862907,-71.07200871,-71.05778998,-71.0638074,-71.06778638,-71.06685455,-71.06118848,-71.06559395,-71.06559395,-71.06328901,-71.06328901,-71.06087585,-71.05667294,-71.07159012,-71.07303154,-71.06786956,-71.06778025,-71.06778025,-71.06271009,-71.07558677,-71.06429139,-71.06429139,-71.0677511,-71.05954439,-71.06127819,-71.06127819,-71.0636383,-71.06844484,-71.06585779,-71.06585779,-71.06705066,-71.06460890000002,-71.07347571,-71.09187755,-71.09187755,-71.06693233,-71.06546757,-71.06546757,-71.06546757,-71.06280134,-71.05532964,-71.06778025,-71.06812632,-71.06575183,-71.06187015,-71.06261555,-71.07108773,-71.07104897,-71.07104897,-71.06130524,-71.05973399999998,-71.06838949,-71.06424768,-71.06424768,-71.06506647,-71.06955795,-71.07183785,-71.07111848,-71.06664424,-71.0630687,-71.0630687,-71.06219497,-71.0763037,-71.0763037,-71.06272297,-71.06235124,-71.062607,-71.06702258,-71.06257749,-71.06547135,-71.06547135,-71.06547135,-71.07178667,-71.06424768,-71.05672533,-71.07031161,-71.06259482,-71.06259482,-71.06259482,-71.06259482,-71.07180723,-71.07468313,-71.07172281,-71.07172281,-71.06787929,-71.06546757,-71.06546757,-71.06546757,-71.06546757,-71.07600129],\"marker\":{\"color\":\"#ed2c2a\",\"symbol\":\"diamond\"},\"mode\":\"markers\",\"name\":\"Dorchester\",\"showlegend\":true,\"type\":\"scattergeo\"},{\"geo\":\"geo\",\"hovertemplate\":\"NAME=Downtown<br>LAT=%{lat}<br>LONG=%{lon}<extra></extra>\",\"lat\":[42.35064439,42.34891347,42.35106637,42.35540738,42.34942864,42.34942864,42.34942864,42.34942864,42.34942864,42.34942864,42.34976402,42.35207238,42.35103105,42.34942864,42.35521429],\"legendgroup\":\"Downtown\",\"lon\":[-71.06811584,-71.06221241,-71.06549569,-71.06312433,-71.06536641,-71.06536641,-71.06536641,-71.06536641,-71.06536641,-71.06536641,-71.06045076,-71.05975342,-71.06373331,-71.06536641,-71.06206351],\"marker\":{\"color\":\"#92c0d3\",\"symbol\":\"square\"},\"mode\":\"markers\",\"name\":\"Downtown\",\"showlegend\":true,\"type\":\"scattergeo\"},{\"geo\":\"geo\",\"hovertemplate\":\"NAME=Hyde Park<br>LAT=%{lat}<br>LONG=%{lon}<extra></extra>\",\"lat\":[42.26761320000001,42.2656321,42.26169686,42.2544451,42.26414947,42.25022843,42.28772613,42.28772613,42.26701085,42.28475704,42.28732723,42.28732723,42.28732723,42.25220188,42.27116072,42.2758989,42.26361745,42.26361745,42.25248964,42.2661068,42.26384592,42.25076977,42.23631051,42.26138821,42.28314714,42.2504055,42.26170286,42.26170286,42.24186532,42.26217287,42.26273505,42.26506676],\"legendgroup\":\"Hyde Park\",\"lon\":[-71.09848676,-71.11051694,-71.11387342,-71.12242761,-71.10088891,-71.11831536,-71.10678708,-71.10678708,-71.12096171,-71.10961809,-71.11769065,-71.11769065,-71.11769065,-71.13095053,-71.10814866,-71.12566662,-71.10237387,-71.10237387,-71.14188911,-71.09656048,-71.11038261,-71.11401862,-71.13231083,-71.11210723,-71.11374152,-71.1317374,-71.10221348,-71.10221348,-71.13277504,-71.11245418,-71.11078287,-71.09768522],\"marker\":{\"color\":\"#92c0d3\",\"symbol\":\"x\"},\"mode\":\"markers\",\"name\":\"Hyde Park\",\"showlegend\":true,\"type\":\"scattergeo\"},{\"geo\":\"geo\",\"hovertemplate\":\"NAME=South End<br>LAT=%{lat}<br>LONG=%{lon}<extra></extra>\",\"lat\":[42.33555954,42.33903373,42.3353741,42.34583312,42.34583312,42.34583312,42.34583312,42.33543394,42.34091586,42.34680574,42.34680574,42.33593698,42.31370136,42.35147336,42.33936768,42.33936768,42.33919306,42.33965205,42.34243945,42.34828759,42.33543394,42.33871587,42.34060371,42.34060371,42.34060371,42.34060371,42.34060371,42.34060371,42.33602271,42.33738014,42.33738014,42.33795319,42.34063708,42.34309082,42.33543394],\"legendgroup\":\"South End\",\"lon\":[-71.07436364,-71.07997273,-71.0783156,-71.09845531,-71.09845531,-71.09845531,-71.09845531,-71.08076738,-71.08771531,-71.09893987,-71.09893987,-71.08008791,-71.09551192,-71.07560042,-71.07035467,-71.07035467,-71.06984240000001,-71.07455503,-71.0844553,-71.07891773,-71.08076738,-71.08152167,-71.08174185,-71.08174185,-71.08174185,-71.08174185,-71.08174185,-71.08174185,-71.07996709999998,-71.08388901,-71.08388901,-71.0774931,-71.07572281,-71.08540752,-71.08076738],\"marker\":{\"color\":\"#92c0d3\",\"symbol\":\"cross\"},\"mode\":\"markers\",\"name\":\"South End\",\"showlegend\":true,\"type\":\"scattergeo\"},{\"geo\":\"geo\",\"hovertemplate\":\"NAME=Mattapan<br>LAT=%{lat}<br>LONG=%{lon}<extra></extra>\",\"lat\":[42.29755695,42.27796370000001,42.27796370000001,42.27796370000001,42.27796370000001,42.28881222,42.28696997,42.27855984,42.28965721,42.29017432,42.29017432,42.28079658,42.28079658,42.28079658,42.28079658,42.28079658,42.28079658,42.28048456,42.27986526,42.27986526,42.27986526,42.28378654,42.29630559,42.29630559,42.2729449,42.28028398,42.28621457,42.28621457,42.27855984,42.29384269,42.29041538,42.29755695,42.29040923,42.28855818,42.27693086,42.27639356,42.28956988,42.28956988,42.27373936,42.28968115,42.3019742,42.29686162,42.28482577,42.27374058,42.29926303,42.27451263,42.30006791,42.30132851,42.29091867,42.29091867,42.29091867,42.29091867,42.29091867,42.28265604,42.29779501,42.27193751,42.27193751,42.27193751,42.28154388,42.28154388,42.27130225,42.28465991,42.27759869,42.28810362,42.27807456,42.29467186,42.30225172,42.30225172,42.27913841,42.27913841,42.27913841,42.27913841,42.28374569,42.29955614,42.29490954,42.27683754,42.27791465,42.27065695,42.29000873,42.27818669,42.26817397,42.27133005,42.27133005,42.28987906,42.2947672,42.2947672,42.28104853,42.29540175,42.2832657,42.28482577,42.28485608,42.29474312,42.27412409,42.28282878,42.28184113,42.28115946,42.28115946,42.28115946,42.28115946,42.28115946,42.28115946,42.29041466,42.28952852,42.29041538,42.28881222,42.29528206,42.27433629,42.29918970000001,42.27298661,42.29415023,42.26985916,42.2960628,42.2960628,42.2960628,42.2960628,42.28574986,42.28145538,42.28265604,42.27783207,42.27607035,42.27607035,42.28079658,42.28574986,42.27763124,42.29926303,42.29091867,42.29091867,42.28009279,42.26984836,42.27374058,42.298695,42.29673351,42.29673351,42.2960628,42.30355748,42.30355748,42.30355748,42.30355748,42.27341661,42.27683754,42.28264842,42.28631299,42.2819874,42.29244178,42.29244178,42.29540175,42.30066139,42.30066139,42.29520338,42.29415023,42.29415023,42.28336878,42.28336878,42.28336878,42.27373936,42.30132851,42.28469164,42.28956988,42.28405588,42.2900467,42.29490954,42.28187061,42.3051015,42.27718001,42.27665388,42.28374593,42.29572232,42.28265604,42.28414025,42.28414025,42.28414025,42.28414025,42.28414025,42.28414025,42.27404039,42.27718001,42.28746609,42.28804798,42.28804798,42.28804798,42.28804798,42.28987906,42.28987906,42.29660463,42.2868893,42.2868893,42.26857609,42.29086554,42.27934055,42.30438536,42.28956988,42.27443147,42.28106002,42.29368748,42.29368748,42.28693437,42.29098335],\"legendgroup\":\"Mattapan\",\"lon\":[-71.08182045,-71.09246318,-71.09246318,-71.09246318,-71.09246318,-71.08513152,-71.07210789,-71.09199697,-71.07728118,-71.08808525,-71.08808525,-71.09039724,-71.09039724,-71.09039724,-71.09039724,-71.09039724,-71.09039724,-71.09256731,-71.08798275,-71.08798275,-71.08798275,-71.08715809999998,-71.08134086,-71.08134086,-71.09348933,-71.08235497,-71.07967740000002,-71.07967740000002,-71.09199697,-71.07609427,-71.07269542,-71.08182045,-71.07693574,-71.08839470000002,-71.08631706,-71.10175026,-71.08510501,-71.08510501,-71.10108024,-71.09212545,-71.08383388,-71.08584183,-71.09137369,-71.0757262,-71.07626513,-71.08004896,-71.08430796,-71.07870873,-71.08767813,-71.08767813,-71.08767813,-71.08767813,-71.08767813,-71.07374541,-71.07384157,-71.0921354,-71.0921354,-71.0921354,-71.07350542,-71.07350542,-71.07442362,-71.07839997,-71.09136804,-71.09153335,-71.08254983,-71.07684844,-71.07935688,-71.07935688,-71.0879709,-71.0879709,-71.0879709,-71.0879709,-71.09153583,-71.08073767,-71.09019249,-71.0952644,-71.09452937,-71.09377841,-71.07580876,-71.09047287,-71.09387677,-71.08299865,-71.08299865,-71.08948844,-71.08380506,-71.08380506,-71.0720644,-71.08237834,-71.09168904,-71.09137369,-71.09365749999998,-71.08503786,-71.07775467,-71.0918249,-71.09871709,-71.07911125,-71.07911125,-71.07911125,-71.07911125,-71.07911125,-71.07911125,-71.08643312,-71.08851422,-71.07269542,-71.08513152,-71.07957414,-71.09369943,-71.08150445,-71.089214,-71.08175047,-71.09346353,-71.08664795,-71.08664795,-71.08664795,-71.08664795,-71.09215334,-71.08351029,-71.07374541,-71.09355491,-71.0896364,-71.0896364,-71.09039724,-71.09215334,-71.09671825,-71.07626513,-71.08767813,-71.08767813,-71.0800541,-71.09532394,-71.0757262,-71.07555206,-71.07618648,-71.07618648,-71.08664795,-71.08311604,-71.08311604,-71.08311604,-71.08311604,-71.07517409,-71.0952644,-71.07887885,-71.09218412,-71.09623655,-71.07320696,-71.07320696,-71.08237834,-71.08328208,-71.08328208,-71.09271640000001,-71.08175047,-71.08175047,-71.08038038,-71.08038038,-71.08038038,-71.10108024,-71.07870873,-71.09621548,-71.08510501,-71.09045322,-71.07330004,-71.09019249,-71.08751152,-71.08083089,-71.09870916,-71.09121606,-71.08938232,-71.07505157,-71.07374541,-71.09305138,-71.09305138,-71.09305138,-71.09305138,-71.09305138,-71.09305138,-71.07630093,-71.09870916,-71.07231418,-71.07766654,-71.07766654,-71.07766654,-71.07766654,-71.08948844,-71.08948844,-71.07692684,-71.09222991,-71.09222991,-71.09574826,-71.07222226,-71.09130505,-71.07994459,-71.08510501,-71.08131004,-71.08420647,-71.07692422,-71.07692422,-71.08894057,-71.08912013],\"marker\":{\"color\":\"#e06666\",\"symbol\":\"circle\"},\"mode\":\"markers\",\"name\":\"Mattapan\",\"showlegend\":true,\"type\":\"scattergeo\"},{\"geo\":\"geo\",\"hovertemplate\":\"NAME=Brighton<br>LAT=%{lat}<br>LONG=%{lon}<extra></extra>\",\"lat\":[42.35283155,42.36227866,42.35540113,42.35486542,42.35555336,42.35752408,42.35551241,42.351987,42.351987,42.35005321],\"legendgroup\":\"Brighton\",\"lon\":[-71.13114273,-71.13742722,-71.13090649,-71.13259322,-71.15274721,-71.13077384,-71.13653726,-71.16510001,-71.16510001,-71.14799736],\"marker\":{\"color\":\"#92c0d3\",\"symbol\":\"diamond\"},\"mode\":\"markers\",\"name\":\"Brighton\",\"showlegend\":true,\"type\":\"scattergeo\"},{\"geo\":\"geo\",\"hovertemplate\":\"NAME=East Boston<br>LAT=%{lat}<br>LONG=%{lon}<extra></extra>\",\"lat\":[42.37256958,42.3714106,42.38257493,42.37056795,42.38492212,42.38196242,42.36671964,42.36671964,42.36671964,42.36671964,42.38069279,42.38229155,42.39193303,42.38229155],\"legendgroup\":\"East Boston\",\"lon\":[-71.04017612,-71.04245069,-71.03026362,-71.04360194,-71.0174635,-71.0318446,-71.03908712,-71.03908712,-71.03908712,-71.03908712,-71.02954916,-71.04036424,-70.99536185,-71.04036424],\"marker\":{\"color\":\"#92c0d3\",\"symbol\":\"square\"},\"mode\":\"markers\",\"name\":\"East Boston\",\"showlegend\":true,\"type\":\"scattergeo\"},{\"geo\":\"geo\",\"hovertemplate\":\"NAME=West Roxbury<br>LAT=%{lat}<br>LONG=%{lon}<extra></extra>\",\"lat\":[42.27625767,42.27625767,42.28474254,42.27579337,42.27579337,42.29396688,42.2917221,42.28112225,42.29255618,42.29255618,42.29068631,42.27884574,42.27326387],\"legendgroup\":\"West Roxbury\",\"lon\":[-71.13939536,-71.13939536,-71.12953347,-71.167152,-71.167152,-71.11893964,-71.1196546,-71.1338382,-71.11974225,-71.11974225,-71.12358911,-71.13310206,-71.14401468],\"marker\":{\"color\":\"#92c0d3\",\"symbol\":\"x\"},\"mode\":\"markers\",\"name\":\"West Roxbury\",\"showlegend\":true,\"type\":\"scattergeo\"},{\"geo\":\"geo\",\"hovertemplate\":\"NAME=South Boston<br>LAT=%{lat}<br>LONG=%{lon}<extra></extra>\",\"lat\":[42.32557398,42.32583998,42.32583998,42.33670628,42.33670628,42.32614559,42.32614559,42.32648547,42.32583998,42.33034412,42.33574249,42.32756337,42.32756337,42.32058475,42.32058475,42.32692112,42.33168201,42.33941146,42.33723127,42.33861270000001,42.33214285,42.32335251,42.33081031,42.33233682,42.3292719,42.3379028,42.33971096,42.33139985,42.339621],\"legendgroup\":\"South Boston\",\"lon\":[-71.0524813,-71.05463516,-71.05463516,-71.05330809,-71.05330809,-71.05349144,-71.05349144,-71.05487817,-71.05463516,-71.05695721,-71.05309125,-71.06751259,-71.06751259,-71.04470305,-71.04470305,-71.05841861,-71.06798742,-71.05371462,-71.05539138,-71.05413593,-71.05121359,-71.05241954,-71.07024806,-71.07129642,-71.05545793,-71.05611348,-71.05321163,-71.05128027,-71.05533044],\"marker\":{\"color\":\"#92c0d3\",\"symbol\":\"cross\"},\"mode\":\"markers\",\"name\":\"South Boston\",\"showlegend\":true,\"type\":\"scattergeo\"},{\"geo\":\"geo\",\"hovertemplate\":\"NAME=Jamaica Plain<br>LAT=%{lat}<br>LONG=%{lon}<extra></extra>\",\"lat\":[42.32283759,42.32283759,42.32469169,42.32246336,42.32246336,42.32246336,42.32246336,42.31832089,42.32561013,42.32561013,42.31832089,42.31832089,42.32624204,42.31981996,42.31488579,42.32469443,42.31548515,42.32283759,42.32547536,42.32015414,42.31433402,42.32547536,42.31591905,42.31534411,42.31550475,42.31550475,42.31538436,42.31538436,42.32624204,42.32469443,42.31127465,42.31888243,42.32469443,42.32469443,42.32563183,42.32563183,42.31854554,42.32624204,42.32610077,42.31485546,42.30536762,42.31451479,42.31591905,42.32290252,42.32638832,42.31609763,42.3204964,42.32483301,42.30512949,42.31284459,42.32610077,42.32214915,42.31529421,42.31667114,42.31529421,42.32283759,42.32283759,42.31668068,42.32352724,42.3031399,42.31591905],\"legendgroup\":\"Jamaica Plain\",\"lon\":[-71.10096723,-71.10096723,-71.10618924,-71.10757917,-71.10757917,-71.10757917,-71.10757917,-71.09934809999999,-71.10449956,-71.10449956,-71.09934809999999,-71.09934809999999,-71.10317575,-71.1042968,-71.09720699,-71.10087902,-71.10615496,-71.10096723,-71.10253482,-71.11119859,-71.09791405,-71.10253482,-71.09691295,-71.09584709,-71.10051479,-71.10051479,-71.09870021,-71.09870021,-71.10317575,-71.10087902,-71.11448366,-71.09929423,-71.10087902,-71.10087902,-71.10845359,-71.10845359,-71.098663,-71.10317575,-71.10433335,-71.09922409999999,-71.11571500000002,-71.0947082,-71.09691295,-71.10220402,-71.10181751,-71.09524853,-71.10281106,-71.10164757,-71.11461873,-71.09676806,-71.10433335,-71.10091019,-71.09486034,-71.09743705,-71.09486034,-71.10096723,-71.10096723,-71.09638886,-71.10222946,-71.11735145,-71.09691295],\"marker\":{\"color\":\"#ffd966\",\"symbol\":\"circle\"},\"mode\":\"markers\",\"name\":\"Jamaica Plain\",\"showlegend\":true,\"type\":\"scattergeo\"},{\"geo\":\"geo\",\"hovertemplate\":\"NAME=Charlestown<br>LAT=%{lat}<br>LONG=%{lon}<extra></extra>\",\"lat\":[42.37847466,42.37808452,42.37736388,42.37808452],\"legendgroup\":\"Charlestown\",\"lon\":[-71.06111453,-71.05784115,-71.05791376,-71.05784115],\"marker\":{\"color\":\"#92c0d3\",\"symbol\":\"diamond\"},\"mode\":\"markers\",\"name\":\"Charlestown\",\"showlegend\":true,\"type\":\"scattergeo\"}],                        {\"template\":{\"data\":{\"bar\":[{\"error_x\":{\"color\":\"#2a3f5f\"},\"error_y\":{\"color\":\"#2a3f5f\"},\"marker\":{\"line\":{\"color\":\"#E5ECF6\",\"width\":0.5},\"pattern\":{\"fillmode\":\"overlay\",\"size\":10,\"solidity\":0.2}},\"type\":\"bar\"}],\"barpolar\":[{\"marker\":{\"line\":{\"color\":\"#E5ECF6\",\"width\":0.5},\"pattern\":{\"fillmode\":\"overlay\",\"size\":10,\"solidity\":0.2}},\"type\":\"barpolar\"}],\"carpet\":[{\"aaxis\":{\"endlinecolor\":\"#2a3f5f\",\"gridcolor\":\"white\",\"linecolor\":\"white\",\"minorgridcolor\":\"white\",\"startlinecolor\":\"#2a3f5f\"},\"baxis\":{\"endlinecolor\":\"#2a3f5f\",\"gridcolor\":\"white\",\"linecolor\":\"white\",\"minorgridcolor\":\"white\",\"startlinecolor\":\"#2a3f5f\"},\"type\":\"carpet\"}],\"choropleth\":[{\"colorbar\":{\"outlinewidth\":0,\"ticks\":\"\"},\"type\":\"choropleth\"}],\"contour\":[{\"colorbar\":{\"outlinewidth\":0,\"ticks\":\"\"},\"colorscale\":[[0.0,\"#0d0887\"],[0.1111111111111111,\"#46039f\"],[0.2222222222222222,\"#7201a8\"],[0.3333333333333333,\"#9c179e\"],[0.4444444444444444,\"#bd3786\"],[0.5555555555555556,\"#d8576b\"],[0.6666666666666666,\"#ed7953\"],[0.7777777777777778,\"#fb9f3a\"],[0.8888888888888888,\"#fdca26\"],[1.0,\"#f0f921\"]],\"type\":\"contour\"}],\"contourcarpet\":[{\"colorbar\":{\"outlinewidth\":0,\"ticks\":\"\"},\"type\":\"contourcarpet\"}],\"heatmap\":[{\"colorbar\":{\"outlinewidth\":0,\"ticks\":\"\"},\"colorscale\":[[0.0,\"#0d0887\"],[0.1111111111111111,\"#46039f\"],[0.2222222222222222,\"#7201a8\"],[0.3333333333333333,\"#9c179e\"],[0.4444444444444444,\"#bd3786\"],[0.5555555555555556,\"#d8576b\"],[0.6666666666666666,\"#ed7953\"],[0.7777777777777778,\"#fb9f3a\"],[0.8888888888888888,\"#fdca26\"],[1.0,\"#f0f921\"]],\"type\":\"heatmap\"}],\"heatmapgl\":[{\"colorbar\":{\"outlinewidth\":0,\"ticks\":\"\"},\"colorscale\":[[0.0,\"#0d0887\"],[0.1111111111111111,\"#46039f\"],[0.2222222222222222,\"#7201a8\"],[0.3333333333333333,\"#9c179e\"],[0.4444444444444444,\"#bd3786\"],[0.5555555555555556,\"#d8576b\"],[0.6666666666666666,\"#ed7953\"],[0.7777777777777778,\"#fb9f3a\"],[0.8888888888888888,\"#fdca26\"],[1.0,\"#f0f921\"]],\"type\":\"heatmapgl\"}],\"histogram\":[{\"marker\":{\"pattern\":{\"fillmode\":\"overlay\",\"size\":10,\"solidity\":0.2}},\"type\":\"histogram\"}],\"histogram2d\":[{\"colorbar\":{\"outlinewidth\":0,\"ticks\":\"\"},\"colorscale\":[[0.0,\"#0d0887\"],[0.1111111111111111,\"#46039f\"],[0.2222222222222222,\"#7201a8\"],[0.3333333333333333,\"#9c179e\"],[0.4444444444444444,\"#bd3786\"],[0.5555555555555556,\"#d8576b\"],[0.6666666666666666,\"#ed7953\"],[0.7777777777777778,\"#fb9f3a\"],[0.8888888888888888,\"#fdca26\"],[1.0,\"#f0f921\"]],\"type\":\"histogram2d\"}],\"histogram2dcontour\":[{\"colorbar\":{\"outlinewidth\":0,\"ticks\":\"\"},\"colorscale\":[[0.0,\"#0d0887\"],[0.1111111111111111,\"#46039f\"],[0.2222222222222222,\"#7201a8\"],[0.3333333333333333,\"#9c179e\"],[0.4444444444444444,\"#bd3786\"],[0.5555555555555556,\"#d8576b\"],[0.6666666666666666,\"#ed7953\"],[0.7777777777777778,\"#fb9f3a\"],[0.8888888888888888,\"#fdca26\"],[1.0,\"#f0f921\"]],\"type\":\"histogram2dcontour\"}],\"mesh3d\":[{\"colorbar\":{\"outlinewidth\":0,\"ticks\":\"\"},\"type\":\"mesh3d\"}],\"parcoords\":[{\"line\":{\"colorbar\":{\"outlinewidth\":0,\"ticks\":\"\"}},\"type\":\"parcoords\"}],\"pie\":[{\"automargin\":true,\"type\":\"pie\"}],\"scatter\":[{\"marker\":{\"colorbar\":{\"outlinewidth\":0,\"ticks\":\"\"}},\"type\":\"scatter\"}],\"scatter3d\":[{\"line\":{\"colorbar\":{\"outlinewidth\":0,\"ticks\":\"\"}},\"marker\":{\"colorbar\":{\"outlinewidth\":0,\"ticks\":\"\"}},\"type\":\"scatter3d\"}],\"scattercarpet\":[{\"marker\":{\"colorbar\":{\"outlinewidth\":0,\"ticks\":\"\"}},\"type\":\"scattercarpet\"}],\"scattergeo\":[{\"marker\":{\"colorbar\":{\"outlinewidth\":0,\"ticks\":\"\"}},\"type\":\"scattergeo\"}],\"scattergl\":[{\"marker\":{\"colorbar\":{\"outlinewidth\":0,\"ticks\":\"\"}},\"type\":\"scattergl\"}],\"scattermapbox\":[{\"marker\":{\"colorbar\":{\"outlinewidth\":0,\"ticks\":\"\"}},\"type\":\"scattermapbox\"}],\"scatterpolar\":[{\"marker\":{\"colorbar\":{\"outlinewidth\":0,\"ticks\":\"\"}},\"type\":\"scatterpolar\"}],\"scatterpolargl\":[{\"marker\":{\"colorbar\":{\"outlinewidth\":0,\"ticks\":\"\"}},\"type\":\"scatterpolargl\"}],\"scatterternary\":[{\"marker\":{\"colorbar\":{\"outlinewidth\":0,\"ticks\":\"\"}},\"type\":\"scatterternary\"}],\"surface\":[{\"colorbar\":{\"outlinewidth\":0,\"ticks\":\"\"},\"colorscale\":[[0.0,\"#0d0887\"],[0.1111111111111111,\"#46039f\"],[0.2222222222222222,\"#7201a8\"],[0.3333333333333333,\"#9c179e\"],[0.4444444444444444,\"#bd3786\"],[0.5555555555555556,\"#d8576b\"],[0.6666666666666666,\"#ed7953\"],[0.7777777777777778,\"#fb9f3a\"],[0.8888888888888888,\"#fdca26\"],[1.0,\"#f0f921\"]],\"type\":\"surface\"}],\"table\":[{\"cells\":{\"fill\":{\"color\":\"#EBF0F8\"},\"line\":{\"color\":\"white\"}},\"header\":{\"fill\":{\"color\":\"#C8D4E3\"},\"line\":{\"color\":\"white\"}},\"type\":\"table\"}]},\"layout\":{\"annotationdefaults\":{\"arrowcolor\":\"#2a3f5f\",\"arrowhead\":0,\"arrowwidth\":1},\"autotypenumbers\":\"strict\",\"coloraxis\":{\"colorbar\":{\"outlinewidth\":0,\"ticks\":\"\"}},\"colorscale\":{\"diverging\":[[0,\"#8e0152\"],[0.1,\"#c51b7d\"],[0.2,\"#de77ae\"],[0.3,\"#f1b6da\"],[0.4,\"#fde0ef\"],[0.5,\"#f7f7f7\"],[0.6,\"#e6f5d0\"],[0.7,\"#b8e186\"],[0.8,\"#7fbc41\"],[0.9,\"#4d9221\"],[1,\"#276419\"]],\"sequential\":[[0.0,\"#0d0887\"],[0.1111111111111111,\"#46039f\"],[0.2222222222222222,\"#7201a8\"],[0.3333333333333333,\"#9c179e\"],[0.4444444444444444,\"#bd3786\"],[0.5555555555555556,\"#d8576b\"],[0.6666666666666666,\"#ed7953\"],[0.7777777777777778,\"#fb9f3a\"],[0.8888888888888888,\"#fdca26\"],[1.0,\"#f0f921\"]],\"sequentialminus\":[[0.0,\"#0d0887\"],[0.1111111111111111,\"#46039f\"],[0.2222222222222222,\"#7201a8\"],[0.3333333333333333,\"#9c179e\"],[0.4444444444444444,\"#bd3786\"],[0.5555555555555556,\"#d8576b\"],[0.6666666666666666,\"#ed7953\"],[0.7777777777777778,\"#fb9f3a\"],[0.8888888888888888,\"#fdca26\"],[1.0,\"#f0f921\"]]},\"colorway\":[\"#636efa\",\"#EF553B\",\"#00cc96\",\"#ab63fa\",\"#FFA15A\",\"#19d3f3\",\"#FF6692\",\"#B6E880\",\"#FF97FF\",\"#FECB52\"],\"font\":{\"color\":\"#2a3f5f\"},\"geo\":{\"bgcolor\":\"white\",\"lakecolor\":\"white\",\"landcolor\":\"#E5ECF6\",\"showlakes\":true,\"showland\":true,\"subunitcolor\":\"white\"},\"hoverlabel\":{\"align\":\"left\"},\"hovermode\":\"closest\",\"mapbox\":{\"style\":\"light\"},\"paper_bgcolor\":\"white\",\"plot_bgcolor\":\"#E5ECF6\",\"polar\":{\"angularaxis\":{\"gridcolor\":\"white\",\"linecolor\":\"white\",\"ticks\":\"\"},\"bgcolor\":\"#E5ECF6\",\"radialaxis\":{\"gridcolor\":\"white\",\"linecolor\":\"white\",\"ticks\":\"\"}},\"scene\":{\"xaxis\":{\"backgroundcolor\":\"#E5ECF6\",\"gridcolor\":\"white\",\"gridwidth\":2,\"linecolor\":\"white\",\"showbackground\":true,\"ticks\":\"\",\"zerolinecolor\":\"white\"},\"yaxis\":{\"backgroundcolor\":\"#E5ECF6\",\"gridcolor\":\"white\",\"gridwidth\":2,\"linecolor\":\"white\",\"showbackground\":true,\"ticks\":\"\",\"zerolinecolor\":\"white\"},\"zaxis\":{\"backgroundcolor\":\"#E5ECF6\",\"gridcolor\":\"white\",\"gridwidth\":2,\"linecolor\":\"white\",\"showbackground\":true,\"ticks\":\"\",\"zerolinecolor\":\"white\"}},\"shapedefaults\":{\"line\":{\"color\":\"#2a3f5f\"}},\"ternary\":{\"aaxis\":{\"gridcolor\":\"white\",\"linecolor\":\"white\",\"ticks\":\"\"},\"baxis\":{\"gridcolor\":\"white\",\"linecolor\":\"white\",\"ticks\":\"\"},\"bgcolor\":\"#E5ECF6\",\"caxis\":{\"gridcolor\":\"white\",\"linecolor\":\"white\",\"ticks\":\"\"}},\"title\":{\"x\":0.05},\"xaxis\":{\"automargin\":true,\"gridcolor\":\"white\",\"linecolor\":\"white\",\"ticks\":\"\",\"title\":{\"standoff\":15},\"zerolinecolor\":\"white\",\"zerolinewidth\":2},\"yaxis\":{\"automargin\":true,\"gridcolor\":\"white\",\"linecolor\":\"white\",\"ticks\":\"\",\"title\":{\"standoff\":15},\"zerolinecolor\":\"white\",\"zerolinewidth\":2}}},\"geo\":{\"domain\":{\"x\":[0.0,1.0],\"y\":[0.0,1.0]},\"center\":{}},\"legend\":{\"title\":{\"text\":\"NAME\"},\"tracegroupgap\":0},\"title\":{\"text\":\"[Shootings in cases of Violence and Harrassment per District]\"},\"height\":500,\"width\":500},                        {\"responsive\": true}                    ).then(function(){\n",
       "                            \n",
       "var gd = document.getElementById('116241fb-9623-4c26-9243-56b60d24bd50');\n",
       "var x = new MutationObserver(function (mutations, observer) {{\n",
       "        var display = window.getComputedStyle(gd).display;\n",
       "        if (!display || display === 'none') {{\n",
       "            console.log([gd, 'removed!']);\n",
       "            Plotly.purge(gd);\n",
       "            observer.disconnect();\n",
       "        }}\n",
       "}});\n",
       "\n",
       "// Listen for the removal of the full notebook cells\n",
       "var notebookContainer = gd.closest('#notebook-container');\n",
       "if (notebookContainer) {{\n",
       "    x.observe(notebookContainer, {childList: true});\n",
       "}}\n",
       "\n",
       "// Listen for the clearing of the current output cell\n",
       "var outputEl = gd.closest('.output');\n",
       "if (outputEl) {{\n",
       "    x.observe(outputEl, {childList: true});\n",
       "}}\n",
       "\n",
       "                        })                };                });            </script>        </div>"
      ]
     },
     "metadata": {},
     "output_type": "display_data"
    }
   ],
   "source": [
    "px.scatter_geo(shootings_clean, lat='LAT', lon='LONG', color='NAME', symbol='NAME', \n",
    "               width=500, height=500, title='[Shootings in cases of Violence and Harrassment per District]', \n",
    "               color_discrete_sequence=['#fa9731','#ed2c2a','#92c0d3','#92c0d3','#92c0d3','#e06666','#92c0d3','#92c0d3','#92c0d3','#92c0d3','#ffd966','#92c0d3'])"
   ]
  },
  {
   "cell_type": "code",
   "execution_count": null,
   "metadata": {},
   "outputs": [
    {
     "data": {
      "text/html": [
       "<style type=\"text/css\">\n",
       "#T_226b4_row0_col0, #T_226b4_row1_col0, #T_226b4_row2_col0, #T_226b4_row3_col0, #T_226b4_row4_col0, #T_226b4_row5_col0, #T_226b4_row6_col0, #T_226b4_row8_col0, #T_226b4_row9_col0, #T_226b4_row10_col0, #T_226b4_row11_col0 {\n",
       "  color: black;\n",
       "}\n",
       "#T_226b4_row7_col0 {\n",
       "  color: red;\n",
       "}\n",
       "</style>\n",
       "<table id=\"T_226b4_\">\n",
       "  <thead>\n",
       "    <tr>\n",
       "      <th class=\"blank level0\" >&nbsp;</th>\n",
       "      <th class=\"col_heading level0 col0\" >OFFENSE_CODE_GROUP</th>\n",
       "    </tr>\n",
       "    <tr>\n",
       "      <th class=\"index_name level0\" >NAME</th>\n",
       "      <th class=\"blank col0\" >&nbsp;</th>\n",
       "    </tr>\n",
       "  </thead>\n",
       "  <tbody>\n",
       "    <tr>\n",
       "      <th id=\"T_226b4_level0_row0\" class=\"row_heading level0 row0\" >Brighton</th>\n",
       "      <td id=\"T_226b4_row0_col0\" class=\"data row0 col0\" >Larceny and vandalism</td>\n",
       "    </tr>\n",
       "    <tr>\n",
       "      <th id=\"T_226b4_level0_row1\" class=\"row_heading level0 row1\" >Charlestown</th>\n",
       "      <td id=\"T_226b4_row1_col0\" class=\"data row1 col0\" >Larceny and vandalism</td>\n",
       "    </tr>\n",
       "    <tr>\n",
       "      <th id=\"T_226b4_level0_row2\" class=\"row_heading level0 row2\" >Dorchester</th>\n",
       "      <td id=\"T_226b4_row2_col0\" class=\"data row2 col0\" >Larceny and vandalism</td>\n",
       "    </tr>\n",
       "    <tr>\n",
       "      <th id=\"T_226b4_level0_row3\" class=\"row_heading level0 row3\" >Downtown</th>\n",
       "      <td id=\"T_226b4_row3_col0\" class=\"data row3 col0\" >Larceny and vandalism</td>\n",
       "    </tr>\n",
       "    <tr>\n",
       "      <th id=\"T_226b4_level0_row4\" class=\"row_heading level0 row4\" >East Boston</th>\n",
       "      <td id=\"T_226b4_row4_col0\" class=\"data row4 col0\" >Larceny and vandalism</td>\n",
       "    </tr>\n",
       "    <tr>\n",
       "      <th id=\"T_226b4_level0_row5\" class=\"row_heading level0 row5\" >Hyde Park</th>\n",
       "      <td id=\"T_226b4_row5_col0\" class=\"data row5 col0\" >Larceny and vandalism</td>\n",
       "    </tr>\n",
       "    <tr>\n",
       "      <th id=\"T_226b4_level0_row6\" class=\"row_heading level0 row6\" >Jamaica Plain</th>\n",
       "      <td id=\"T_226b4_row6_col0\" class=\"data row6 col0\" >Larceny and vandalism</td>\n",
       "    </tr>\n",
       "    <tr>\n",
       "      <th id=\"T_226b4_level0_row7\" class=\"row_heading level0 row7\" >Mattapan</th>\n",
       "      <td id=\"T_226b4_row7_col0\" class=\"data row7 col0\" >Police investigation procedure</td>\n",
       "    </tr>\n",
       "    <tr>\n",
       "      <th id=\"T_226b4_level0_row8\" class=\"row_heading level0 row8\" >Roxbury</th>\n",
       "      <td id=\"T_226b4_row8_col0\" class=\"data row8 col0\" >Larceny and vandalism</td>\n",
       "    </tr>\n",
       "    <tr>\n",
       "      <th id=\"T_226b4_level0_row9\" class=\"row_heading level0 row9\" >South Boston</th>\n",
       "      <td id=\"T_226b4_row9_col0\" class=\"data row9 col0\" >Larceny and vandalism</td>\n",
       "    </tr>\n",
       "    <tr>\n",
       "      <th id=\"T_226b4_level0_row10\" class=\"row_heading level0 row10\" >South End</th>\n",
       "      <td id=\"T_226b4_row10_col0\" class=\"data row10 col0\" >Larceny and vandalism</td>\n",
       "    </tr>\n",
       "    <tr>\n",
       "      <th id=\"T_226b4_level0_row11\" class=\"row_heading level0 row11\" >West Roxbury</th>\n",
       "      <td id=\"T_226b4_row11_col0\" class=\"data row11 col0\" >Larceny and vandalism</td>\n",
       "    </tr>\n",
       "  </tbody>\n",
       "</table>\n"
      ],
      "text/plain": [
       "<pandas.io.formats.style.Styler at 0x12fd0c8b0>"
      ]
     },
     "metadata": {},
     "output_type": "display_data"
    }
   ],
   "source": [
    "most_incident_dist.style.applymap(lambda x : 'color: red' if x != 'Larceny and vandalism' else 'color: black')"
   ]
  },
  {
   "cell_type": "code",
   "execution_count": null,
   "metadata": {},
   "outputs": [
    {
     "data": {
      "text/html": [
       "<div>\n",
       "<style scoped>\n",
       "    .dataframe tbody tr th:only-of-type {\n",
       "        vertical-align: middle;\n",
       "    }\n",
       "\n",
       "    .dataframe tbody tr th {\n",
       "        vertical-align: top;\n",
       "    }\n",
       "\n",
       "    .dataframe thead th {\n",
       "        text-align: right;\n",
       "    }\n",
       "</style>\n",
       "<table border=\"1\" class=\"dataframe\">\n",
       "  <thead>\n",
       "    <tr style=\"text-align: right;\">\n",
       "      <th></th>\n",
       "      <th>INCIDENT_NUMBER</th>\n",
       "      <th>SHOOTING</th>\n",
       "      <th>OCCURRED_ON_DATE</th>\n",
       "      <th>LAT</th>\n",
       "      <th>LONG</th>\n",
       "      <th>NAME</th>\n",
       "      <th>LAT_POLICE_STATION</th>\n",
       "      <th>LONG_POLICE_STATION</th>\n",
       "      <th>AVG_HAVERSINE_DISTANCE</th>\n",
       "    </tr>\n",
       "    <tr>\n",
       "      <th>OFFENSE_CODE_GROUP</th>\n",
       "      <th></th>\n",
       "      <th></th>\n",
       "      <th></th>\n",
       "      <th></th>\n",
       "      <th></th>\n",
       "      <th></th>\n",
       "      <th></th>\n",
       "      <th></th>\n",
       "      <th></th>\n",
       "    </tr>\n",
       "  </thead>\n",
       "  <tbody>\n",
       "    <tr>\n",
       "      <th>Disputes</th>\n",
       "      <td>15415</td>\n",
       "      <td>15415</td>\n",
       "      <td>15415</td>\n",
       "      <td>15415</td>\n",
       "      <td>15415</td>\n",
       "      <td>15415</td>\n",
       "      <td>15415</td>\n",
       "      <td>15415</td>\n",
       "      <td>15415</td>\n",
       "    </tr>\n",
       "    <tr>\n",
       "      <th>Drugs and disorderly conduct</th>\n",
       "      <td>19011</td>\n",
       "      <td>19011</td>\n",
       "      <td>19011</td>\n",
       "      <td>19011</td>\n",
       "      <td>19011</td>\n",
       "      <td>19011</td>\n",
       "      <td>19011</td>\n",
       "      <td>19011</td>\n",
       "      <td>19011</td>\n",
       "    </tr>\n",
       "    <tr>\n",
       "      <th>Fraud and law violations</th>\n",
       "      <td>26781</td>\n",
       "      <td>26781</td>\n",
       "      <td>26781</td>\n",
       "      <td>26781</td>\n",
       "      <td>26781</td>\n",
       "      <td>26781</td>\n",
       "      <td>26781</td>\n",
       "      <td>26781</td>\n",
       "      <td>26781</td>\n",
       "    </tr>\n",
       "    <tr>\n",
       "      <th>Larceny and vandalism</th>\n",
       "      <td>76001</td>\n",
       "      <td>76001</td>\n",
       "      <td>76001</td>\n",
       "      <td>76001</td>\n",
       "      <td>76001</td>\n",
       "      <td>76001</td>\n",
       "      <td>76001</td>\n",
       "      <td>76001</td>\n",
       "      <td>76001</td>\n",
       "    </tr>\n",
       "    <tr>\n",
       "      <th>Other</th>\n",
       "      <td>19385</td>\n",
       "      <td>19385</td>\n",
       "      <td>19385</td>\n",
       "      <td>19385</td>\n",
       "      <td>19385</td>\n",
       "      <td>19385</td>\n",
       "      <td>19385</td>\n",
       "      <td>19385</td>\n",
       "      <td>19385</td>\n",
       "    </tr>\n",
       "    <tr>\n",
       "      <th>Police investigation procedure</th>\n",
       "      <td>50483</td>\n",
       "      <td>50483</td>\n",
       "      <td>50483</td>\n",
       "      <td>50483</td>\n",
       "      <td>50483</td>\n",
       "      <td>50483</td>\n",
       "      <td>50483</td>\n",
       "      <td>50483</td>\n",
       "      <td>50483</td>\n",
       "    </tr>\n",
       "    <tr>\n",
       "      <th>Violence and harassment</th>\n",
       "      <td>29989</td>\n",
       "      <td>29989</td>\n",
       "      <td>29989</td>\n",
       "      <td>29989</td>\n",
       "      <td>29989</td>\n",
       "      <td>29989</td>\n",
       "      <td>29989</td>\n",
       "      <td>29989</td>\n",
       "      <td>29989</td>\n",
       "    </tr>\n",
       "  </tbody>\n",
       "</table>\n",
       "</div>"
      ],
      "text/plain": [
       "                                INCIDENT_NUMBER  SHOOTING  OCCURRED_ON_DATE  \\\n",
       "OFFENSE_CODE_GROUP                                                            \n",
       "Disputes                                  15415     15415             15415   \n",
       "Drugs and disorderly conduct              19011     19011             19011   \n",
       "Fraud and law violations                  26781     26781             26781   \n",
       "Larceny and vandalism                     76001     76001             76001   \n",
       "Other                                     19385     19385             19385   \n",
       "Police investigation procedure            50483     50483             50483   \n",
       "Violence and harassment                   29989     29989             29989   \n",
       "\n",
       "                                  LAT   LONG   NAME  LAT_POLICE_STATION  \\\n",
       "OFFENSE_CODE_GROUP                                                        \n",
       "Disputes                        15415  15415  15415               15415   \n",
       "Drugs and disorderly conduct    19011  19011  19011               19011   \n",
       "Fraud and law violations        26781  26781  26781               26781   \n",
       "Larceny and vandalism           76001  76001  76001               76001   \n",
       "Other                           19385  19385  19385               19385   \n",
       "Police investigation procedure  50483  50483  50483               50483   \n",
       "Violence and harassment         29989  29989  29989               29989   \n",
       "\n",
       "                                LONG_POLICE_STATION  AVG_HAVERSINE_DISTANCE  \n",
       "OFFENSE_CODE_GROUP                                                           \n",
       "Disputes                                      15415                   15415  \n",
       "Drugs and disorderly conduct                  19011                   19011  \n",
       "Fraud and law violations                      26781                   26781  \n",
       "Larceny and vandalism                         76001                   76001  \n",
       "Other                                         19385                   19385  \n",
       "Police investigation procedure                50483                   50483  \n",
       "Violence and harassment                       29989                   29989  "
      ]
     },
     "metadata": {},
     "output_type": "display_data"
    }
   ],
   "source": [
    "df.groupby(['OFFENSE_CODE_GROUP']).count()"
   ]
  },
  {
   "cell_type": "code",
   "execution_count": null,
   "metadata": {},
   "outputs": [],
   "source": [
    "df_total = df.groupby(['OFFENSE_CODE_GROUP']).count()"
   ]
  },
  {
   "cell_type": "code",
   "execution_count": null,
   "metadata": {},
   "outputs": [],
   "source": [
    "aa = df_total[['INCIDENT_NUMBER']].sort_values(by='INCIDENT_NUMBER', ascending=False)"
   ]
  },
  {
   "cell_type": "code",
   "execution_count": null,
   "metadata": {},
   "outputs": [
    {
     "data": {
      "text/html": [
       "<div>\n",
       "<style scoped>\n",
       "    .dataframe tbody tr th:only-of-type {\n",
       "        vertical-align: middle;\n",
       "    }\n",
       "\n",
       "    .dataframe tbody tr th {\n",
       "        vertical-align: top;\n",
       "    }\n",
       "\n",
       "    .dataframe thead th {\n",
       "        text-align: right;\n",
       "    }\n",
       "</style>\n",
       "<table border=\"1\" class=\"dataframe\">\n",
       "  <thead>\n",
       "    <tr style=\"text-align: right;\">\n",
       "      <th></th>\n",
       "      <th>INCIDENT_NUMBER</th>\n",
       "    </tr>\n",
       "    <tr>\n",
       "      <th>OFFENSE_CODE_GROUP</th>\n",
       "      <th></th>\n",
       "    </tr>\n",
       "  </thead>\n",
       "  <tbody>\n",
       "    <tr>\n",
       "      <th>Larceny and vandalism</th>\n",
       "      <td>76001</td>\n",
       "    </tr>\n",
       "    <tr>\n",
       "      <th>Police investigation procedure</th>\n",
       "      <td>50483</td>\n",
       "    </tr>\n",
       "    <tr>\n",
       "      <th>Violence and harassment</th>\n",
       "      <td>29989</td>\n",
       "    </tr>\n",
       "    <tr>\n",
       "      <th>Fraud and law violations</th>\n",
       "      <td>26781</td>\n",
       "    </tr>\n",
       "    <tr>\n",
       "      <th>Other</th>\n",
       "      <td>19385</td>\n",
       "    </tr>\n",
       "  </tbody>\n",
       "</table>\n",
       "</div>"
      ],
      "text/plain": [
       "                                INCIDENT_NUMBER\n",
       "OFFENSE_CODE_GROUP                             \n",
       "Larceny and vandalism                     76001\n",
       "Police investigation procedure            50483\n",
       "Violence and harassment                   29989\n",
       "Fraud and law violations                  26781\n",
       "Other                                     19385"
      ]
     },
     "metadata": {},
     "output_type": "display_data"
    }
   ],
   "source": [
    "aa.head()"
   ]
  },
  {
   "cell_type": "code",
   "execution_count": null,
   "metadata": {},
   "outputs": [],
   "source": [
    "aa = aa.reset_index()"
   ]
  },
  {
   "cell_type": "code",
   "execution_count": null,
   "metadata": {},
   "outputs": [
    {
     "data": {
      "text/plain": [
       "[76001, 50483, 29989, 26781, 19385, 19011, 15415]"
      ]
     },
     "metadata": {},
     "output_type": "display_data"
    }
   ],
   "source": [
    "l = [i for i in aa.loc[:,'INCIDENT_NUMBER']]\n",
    "l"
   ]
  },
  {
   "cell_type": "code",
   "execution_count": null,
   "metadata": {},
   "outputs": [
    {
     "data": {
      "text/plain": [
       "['Larceny and vandalism',\n",
       " 'Police investigation procedure',\n",
       " 'Violence and harassment',\n",
       " 'Fraud and law violations',\n",
       " 'Other',\n",
       " 'Drugs and disorderly conduct',\n",
       " 'Disputes']"
      ]
     },
     "metadata": {},
     "output_type": "display_data"
    }
   ],
   "source": [
    "o = [i for i in aa.loc[:,'OFFENSE_CODE_GROUP']]\n",
    "o"
   ]
  },
  {
   "cell_type": "code",
   "execution_count": null,
   "metadata": {},
   "outputs": [
    {
     "data": {
      "image/png": "[encoded data removed]",
      "text/plain": [
       "<Figure size 600x400 with 1 Axes>"
      ]
     },
     "metadata": {},
     "output_type": "display_data"
    }
   ],
   "source": [
    "fig3, ax3 = plt.subplots()\n",
    "plt.barh(np.arange(len(o)), l, align='center')\n",
    "ax3.invert_yaxis()  # labels read top-to-bottom\n",
    "ax3.set_yticks(np.arange(len(o)),labels=o)\n",
    "ax3.set_xlabel('Total Incidents')\n",
    "ax3.set_title('Type of Offence')\n",
    "fig3.set_dpi(100)\n",
    "plt.show() "
   ]
  }
 ],
 "metadata": {
  "kernelspec": {
   "display_name": "lewagon",
   "language": "python",
   "name": "python3"
  },
  "language_info": {
   "name": "python",
   "version": "3.8.12"
  },
  "orig_nbformat": 4
 },
 "nbformat": 4,
 "nbformat_minor": 2
}
